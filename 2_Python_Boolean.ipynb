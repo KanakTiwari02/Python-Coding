{
 "cells": [
  {
   "cell_type": "markdown",
   "metadata": {},
   "source": [
    "# Boolean Data Type in Python"
   ]
  },
  {
   "cell_type": "markdown",
   "metadata": {},
   "source": [
    "The Boolean data type in Python is a built-in type that can take one of two possible values: True or False. These values are primarily used for truth-value testing and logical operations, often representing the outcome of a comparison or a condition."
   ]
  },
  {
   "cell_type": "markdown",
   "metadata": {},
   "source": [
    "### 1. Basic Understanding of Boolean\n",
    "- Boolean is derived from George Boole’s algebra, dealing with binary logic.\n",
    "- In Python, the boolean type is denoted by True and False, where True has a value of 1 and False has a value of 0.\n",
    "- They are used primarily in conditional statements and logical operations."
   ]
  },
  {
   "cell_type": "code",
   "execution_count": 1,
   "metadata": {},
   "outputs": [
    {
     "name": "stdout",
     "output_type": "stream",
     "text": [
      "<class 'bool'>\n",
      "<class 'bool'>\n"
     ]
    }
   ],
   "source": [
    "a = True\n",
    "b = False\n",
    "print(type(a))  # Output: <class 'bool'>\n",
    "print(type(b))  # Output: <class 'bool'>"
   ]
  },
  {
   "cell_type": "markdown",
   "metadata": {},
   "source": [
    "### 2. Boolean Expressions\n",
    "Boolean expressions evaluate to either True or False. They are commonly used to test conditions in if-else statements or loops."
   ]
  },
  {
   "cell_type": "code",
   "execution_count": 2,
   "metadata": {},
   "outputs": [
    {
     "name": "stdout",
     "output_type": "stream",
     "text": [
      "True\n",
      "False\n"
     ]
    }
   ],
   "source": [
    "print(1 == 1)  # Output: True\n",
    "print(2 < 1)   # Output: False"
   ]
  },
  {
   "cell_type": "markdown",
   "metadata": {},
   "source": [
    "### 3. Boolean Evaluation with bool() Function\n",
    "The bool() function evaluates any expression and returns True or False. The behavior depends on Python's internal truth-testing rules:\n",
    "\n",
    "Falsy values: None, 0, 0.0, empty sequences ('', [], ()), and empty mappings ({}) return False.\n",
    "\n",
    "Truthy values: Any non-zero number, non-empty sequence, or non-empty mapping returns True."
   ]
  },
  {
   "cell_type": "code",
   "execution_count": 5,
   "metadata": {},
   "outputs": [
    {
     "name": "stdout",
     "output_type": "stream",
     "text": [
      "False\n",
      "True\n",
      "True\n",
      "False\n"
     ]
    }
   ],
   "source": [
    "# bool([x])\n",
    "\n",
    "print(bool(0))             # Output: False\n",
    "print(bool(1))             # Output: True\n",
    "print(bool('Hello'))       # Output: True\n",
    "print(bool([]))            # Output: False\n"
   ]
  },
  {
   "cell_type": "markdown",
   "metadata": {},
   "source": [
    "### 4. Boolean Comparisons\n",
    "Boolean expressions often involve comparison operators:\n",
    "\n",
    "- == (equal)\n",
    "- != (not equal)\n",
    "- \">\" (greater than)\n",
    "- < (less than)\n",
    "- \">=\" (greater than or equal)\n",
    "- <= (less than or equal)"
   ]
  },
  {
   "cell_type": "code",
   "execution_count": 6,
   "metadata": {},
   "outputs": [
    {
     "name": "stdout",
     "output_type": "stream",
     "text": [
      "False\n",
      "True\n"
     ]
    }
   ],
   "source": [
    "a = 10\n",
    "b = 20\n",
    "print(a == b)  # Output: False\n",
    "print(a != b)  # Output: True"
   ]
  },
  {
   "cell_type": "markdown",
   "metadata": {},
   "source": [
    "### 5. Boolean with Integers and Floats\n",
    "Python considers 0, 0.0, or 0j as False, while any non-zero number (positive or negative) is True."
   ]
  },
  {
   "cell_type": "code",
   "execution_count": 7,
   "metadata": {},
   "outputs": [
    {
     "name": "stdout",
     "output_type": "stream",
     "text": [
      "False\n",
      "True\n",
      "True\n"
     ]
    }
   ],
   "source": [
    "print(bool(0))    # Output: False\n",
    "print(bool(1))    # Output: True\n",
    "print(bool(-9.7)) # Output: True"
   ]
  },
  {
   "cell_type": "markdown",
   "metadata": {},
   "source": [
    "### 6. Boolean Operators\n",
    "Boolean operators are used to combine logical expressions:\n",
    "\n",
    "### a) or Operator\n",
    "Returns True if any one of the conditions is True."
   ]
  },
  {
   "cell_type": "code",
   "execution_count": null,
   "metadata": {},
   "outputs": [],
   "source": [
    "a = 1\n",
    "b = 2\n",
    "if a > b or b < 3:\n",
    "    print(True)   # Output: True"
   ]
  },
  {
   "cell_type": "markdown",
   "metadata": {},
   "source": [
    "### b) and Operator\n",
    "Returns True only if all conditions are True."
   ]
  },
  {
   "cell_type": "code",
   "execution_count": 8,
   "metadata": {},
   "outputs": [
    {
     "name": "stdout",
     "output_type": "stream",
     "text": [
      "True\n"
     ]
    }
   ],
   "source": [
    "a = 1\n",
    "b = 2\n",
    "if a < b and b < 3:\n",
    "    print(True)   # Output: True"
   ]
  },
  {
   "cell_type": "markdown",
   "metadata": {},
   "source": [
    "### c) not Operator\n",
    "The not operator inverts the truth value of its operand."
   ]
  },
  {
   "cell_type": "code",
   "execution_count": 9,
   "metadata": {},
   "outputs": [
    {
     "name": "stdout",
     "output_type": "stream",
     "text": [
      "True\n"
     ]
    }
   ],
   "source": [
    "a = False\n",
    "print(not a)   # Output: True"
   ]
  },
  {
   "cell_type": "markdown",
   "metadata": {},
   "source": [
    "### 7. Boolean Equality and Inequality\n",
    "\n",
    "== is used to check if two values are equal.\n",
    "\n",
    "!= is used to check if two values are not equal."
   ]
  },
  {
   "cell_type": "code",
   "execution_count": 10,
   "metadata": {},
   "outputs": [
    {
     "name": "stdout",
     "output_type": "stream",
     "text": [
      "True\n",
      "True\n"
     ]
    }
   ],
   "source": [
    "a = 0\n",
    "b = 1\n",
    "print(a == 0)  # Output: True\n",
    "print(a != b)  # Output: True\n"
   ]
  },
  {
   "cell_type": "markdown",
   "metadata": {},
   "source": [
    "### 8. Boolean Identity with is Operator\n",
    "The is operator checks if two variables refer to the same object in memory, not just equality."
   ]
  },
  {
   "cell_type": "code",
   "execution_count": 11,
   "metadata": {},
   "outputs": [
    {
     "name": "stdout",
     "output_type": "stream",
     "text": [
      "True\n",
      "False\n"
     ]
    }
   ],
   "source": [
    "x = 10\n",
    "y = 10\n",
    "print(x is y)  # Output: True\n",
    "\n",
    "x = [1, 2, 3]\n",
    "y = [1, 2, 3]\n",
    "print(x is y)  # Output: False (different objects in memory)\n"
   ]
  },
  {
   "cell_type": "markdown",
   "metadata": {},
   "source": [
    "### 9. Membership Testing with in Operator\n",
    "The in operator checks if a value is present in a sequence (like a list, tuple, or string)."
   ]
  },
  {
   "cell_type": "code",
   "execution_count": 12,
   "metadata": {},
   "outputs": [
    {
     "name": "stdout",
     "output_type": "stream",
     "text": [
      "True\n"
     ]
    }
   ],
   "source": [
    "animals = ['dog', 'cat', 'lion']\n",
    "print('lion' in animals)  # Output: True"
   ]
  },
  {
   "cell_type": "markdown",
   "metadata": {},
   "source": [
    "### 10. Common Use-Cases of Boolean\n",
    "- Conditional Statements: Boolean values are crucial in if, while, and for loops to determine flow control.\n",
    "- Logical Comparisons: Boolean operators are used for combining multiple conditions.\n",
    "- Truth Testing: Implicit truth testing in statements like if and while."
   ]
  },
  {
   "cell_type": "markdown",
   "metadata": {},
   "source": [
    "### 11. Summary\n",
    "- Python Boolean type only has two values: True and False.\n",
    "- Values are evaluated to Boolean using the bool() function or as a result of expressions.\n",
    "- Boolean operators (or, and, not) are used to manipulate True and False values.\n",
    "- is checks for object identity, while in checks for membership in sequences.\n",
    "\n",
    "These concepts form the foundation of Boolean operations in Python, which play a critical role in control flow, decision-making, and logic-based computation."
   ]
  }
 ],
 "metadata": {
  "kernelspec": {
   "display_name": "Python 3",
   "language": "python",
   "name": "python3"
  },
  "language_info": {
   "codemirror_mode": {
    "name": "ipython",
    "version": 3
   },
   "file_extension": ".py",
   "mimetype": "text/x-python",
   "name": "python",
   "nbconvert_exporter": "python",
   "pygments_lexer": "ipython3",
   "version": "3.10.7"
  }
 },
 "nbformat": 4,
 "nbformat_minor": 2
}
