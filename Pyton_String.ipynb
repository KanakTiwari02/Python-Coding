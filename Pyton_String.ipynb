{
 "cells": [
  {
   "cell_type": "markdown",
   "metadata": {},
   "source": [
    "# String Data Type in Python"
   ]
  },
  {
   "cell_type": "markdown",
   "metadata": {},
   "source": [
    "Strings in Python are sequences of characters and are one of the most commonly used data types for handling textual data. Python provides a variety of methods and operations to work with strings efficiently. Below is a comprehensive guide covering every aspect of the string data type in Python."
   ]
  },
  {
   "cell_type": "markdown",
   "metadata": {},
   "source": [
    "1. Creating Strings"
   ]
  },
  {
   "cell_type": "markdown",
   "metadata": {},
   "source": [
    "Strings can be created using single quotes ('), double quotes (\"), or triple quotes (''' or \"\"\") for multi-line strings."
   ]
  },
  {
   "cell_type": "code",
   "execution_count": 5,
   "metadata": {},
   "outputs": [
    {
     "name": "stdout",
     "output_type": "stream",
     "text": [
      "Hello, World!\n",
      "Python is fun!\n",
      "This is a\n",
      "multi-line string\n"
     ]
    }
   ],
   "source": [
    "s1 = 'Hello, World!'  # Single quotes\n",
    "s2 = \"Python is fun!\" # Double quotes\n",
    "s3 = \"\"\"This is a\n",
    "multi-line string\"\"\" # Triple quotes\n",
    "print(s1)\n",
    "print(s2)\n",
    "print(s3)\n"
   ]
  },
  {
   "cell_type": "markdown",
   "metadata": {},
   "source": [
    "String Concatenation:"
   ]
  },
  {
   "cell_type": "code",
   "execution_count": 7,
   "metadata": {},
   "outputs": [
    {
     "name": "stdout",
     "output_type": "stream",
     "text": [
      "Hello World\n"
     ]
    }
   ],
   "source": [
    "# Combine strings using the + operator.\n",
    "s1 = \"Hello\"\n",
    "s2 = \"World\"\n",
    "result = s1 + \" \" + s2  \n",
    "print(result)"
   ]
  },
  {
   "cell_type": "markdown",
   "metadata": {},
   "source": [
    "String Repetition:"
   ]
  },
  {
   "cell_type": "code",
   "execution_count": 9,
   "metadata": {},
   "outputs": [
    {
     "name": "stdout",
     "output_type": "stream",
     "text": [
      "Hi! Hi! Hi! \n"
     ]
    }
   ],
   "source": [
    "# Repeat strings using the * operator.\n",
    "s = \"Hi! \" * 3 \n",
    "print(s)\n"
   ]
  },
  {
   "cell_type": "markdown",
   "metadata": {},
   "source": [
    "2. String Indexing and Slicing"
   ]
  },
  {
   "cell_type": "markdown",
   "metadata": {},
   "source": [
    "Indexing:"
   ]
  },
  {
   "cell_type": "code",
   "execution_count": 11,
   "metadata": {},
   "outputs": [
    {
     "name": "stdout",
     "output_type": "stream",
     "text": [
      "P\n",
      "n\n"
     ]
    }
   ],
   "source": [
    "# Access individual characters in a string using indices. Indexing starts from 0.\n",
    "s = \"Python\"\n",
    "first_char = s[0] \n",
    "last_char = s[-1]\n",
    "print(first_char)\n",
    "print(last_char)"
   ]
  },
  {
   "cell_type": "markdown",
   "metadata": {},
   "source": [
    "Slicing:"
   ]
  },
  {
   "cell_type": "code",
   "execution_count": 12,
   "metadata": {},
   "outputs": [
    {
     "name": "stdout",
     "output_type": "stream",
     "text": [
      "Hello\n",
      "World!\n",
      "Hlo ol!\n"
     ]
    }
   ],
   "source": [
    "# Extract substrings using slice notation [start:stop:step].\n",
    "s = \"Hello, World!\"\n",
    "sub_str1 = s[0:5]  \n",
    "sub_str2 = s[7:]   \n",
    "sub_str3 = s[::2] \n",
    "\n",
    "print(sub_str1)\n",
    "print(sub_str2)\n",
    "print(sub_str3)"
   ]
  },
  {
   "cell_type": "markdown",
   "metadata": {},
   "source": [
    "3. String Methods"
   ]
  },
  {
   "cell_type": "code",
   "execution_count": 14,
   "metadata": {},
   "outputs": [
    {
     "name": "stdout",
     "output_type": "stream",
     "text": [
      "Hello\n"
     ]
    }
   ],
   "source": [
    "# .capitalize(): Capitalizes the first character of the string.\n",
    "s = \"hello\"\n",
    "s_cap = s.capitalize()\n",
    "print(s_cap)"
   ]
  },
  {
   "cell_type": "code",
   "execution_count": 15,
   "metadata": {},
   "outputs": [
    {
     "name": "stdout",
     "output_type": "stream",
     "text": [
      "hello\n"
     ]
    }
   ],
   "source": [
    "# .lower(): Converts all characters to lowercase.\n",
    "s = \"HELLO\"\n",
    "s_lower = s.lower()\n",
    "print(s_lower)"
   ]
  },
  {
   "cell_type": "code",
   "execution_count": 17,
   "metadata": {},
   "outputs": [
    {
     "name": "stdout",
     "output_type": "stream",
     "text": [
      "HELLO\n"
     ]
    }
   ],
   "source": [
    "# .upper(): Converts all characters to uppercase.\n",
    "s = \"hello\"\n",
    "s_upper = s.upper()\n",
    "print(s_upper)"
   ]
  },
  {
   "cell_type": "code",
   "execution_count": 18,
   "metadata": {},
   "outputs": [
    {
     "name": "stdout",
     "output_type": "stream",
     "text": [
      "Hello World\n"
     ]
    }
   ],
   "source": [
    "# .title(): Capitalizes the first letter of each word.\n",
    "s = \"hello world\"\n",
    "s_title = s.title()\n",
    "print(s_title)"
   ]
  },
  {
   "cell_type": "code",
   "execution_count": 19,
   "metadata": {},
   "outputs": [
    {
     "name": "stdout",
     "output_type": "stream",
     "text": [
      "hello\n"
     ]
    }
   ],
   "source": [
    "# .strip(): Removes leading and trailing whitespace.\n",
    "s = \"  hello  \"\n",
    "s_stripped = s.strip() \n",
    "print(s_stripped)\n"
   ]
  },
  {
   "cell_type": "markdown",
   "metadata": {},
   "source": [
    "Searching and Finding:"
   ]
  },
  {
   "cell_type": "code",
   "execution_count": 23,
   "metadata": {},
   "outputs": [
    {
     "name": "stdout",
     "output_type": "stream",
     "text": [
      "6\n"
     ]
    }
   ],
   "source": [
    "# .find(sub): Returns the lowest index where substring sub is found, or -1 if not found.\n",
    "s = \"hello world\"\n",
    "index = s.find(\"world\")\n",
    "print(index)"
   ]
  },
  {
   "cell_type": "code",
   "execution_count": 24,
   "metadata": {},
   "outputs": [
    {
     "name": "stdout",
     "output_type": "stream",
     "text": [
      "12\n"
     ]
    }
   ],
   "source": [
    "# .rfind(sub): Returns the highest index where substring sub is found.\n",
    "s = \"hello world world\"\n",
    "index = s.rfind(\"world\") \n",
    "print(index)"
   ]
  },
  {
   "cell_type": "code",
   "execution_count": 25,
   "metadata": {},
   "outputs": [
    {
     "name": "stdout",
     "output_type": "stream",
     "text": [
      "6\n"
     ]
    }
   ],
   "source": [
    "# .index(sub): Similar to .find(), but raises a ValueError if the substring is not found.\n",
    "s = \"hello world\"\n",
    "index = s.index(\"world\")\n",
    "print(index) "
   ]
  },
  {
   "cell_type": "code",
   "execution_count": 26,
   "metadata": {},
   "outputs": [
    {
     "name": "stdout",
     "output_type": "stream",
     "text": [
      "2\n"
     ]
    }
   ],
   "source": [
    "# .count(sub): Returns the number of non-overlapping occurrences of substring sub.\n",
    "s = \"hello world\"\n",
    "count = s.count(\"o\")\n",
    "print(count)  "
   ]
  },
  {
   "cell_type": "markdown",
   "metadata": {},
   "source": [
    "Replacing:"
   ]
  },
  {
   "cell_type": "code",
   "execution_count": 27,
   "metadata": {},
   "outputs": [
    {
     "name": "stdout",
     "output_type": "stream",
     "text": [
      "hello Python\n"
     ]
    }
   ],
   "source": [
    "# .replace(old, new): Returns a copy of the string with all occurrences of substring old replaced by new.\n",
    "s = \"hello world\"\n",
    "s_replaced = s.replace(\"world\", \"Python\") \n",
    "print(s_replaced)  "
   ]
  },
  {
   "cell_type": "markdown",
   "metadata": {},
   "source": [
    "Splitting and Joining:"
   ]
  },
  {
   "cell_type": "code",
   "execution_count": 28,
   "metadata": {},
   "outputs": [
    {
     "name": "stdout",
     "output_type": "stream",
     "text": [
      "['a', 'b', 'c']\n"
     ]
    }
   ],
   "source": [
    "# .split(separator): Splits the string into a list of substrings based on the separator.\n",
    "s = \"a,b,c\"\n",
    "parts = s.split(\",\")  # ['a', 'b', 'c']\n",
    "print(parts)"
   ]
  },
  {
   "cell_type": "code",
   "execution_count": 29,
   "metadata": {},
   "outputs": [
    {
     "name": "stdout",
     "output_type": "stream",
     "text": [
      "a,b,c\n"
     ]
    }
   ],
   "source": [
    "# .join(iterable): Joins elements of an iterable (e.g., list) into a single string with the string as the separator.\n",
    "parts = ['a', 'b', 'c']\n",
    "joined = \",\".join(parts)\n",
    "print(joined)"
   ]
  },
  {
   "cell_type": "markdown",
   "metadata": {},
   "source": [
    "String Formatting:"
   ]
  },
  {
   "cell_type": "code",
   "execution_count": 30,
   "metadata": {},
   "outputs": [
    {
     "name": "stdout",
     "output_type": "stream",
     "text": [
      "Name: Alice, Age: 30\n"
     ]
    }
   ],
   "source": [
    "# Old-style formatting (% operator):\n",
    "name = \"Alice\"\n",
    "age = 30\n",
    "formatted = \"Name: %s, Age: %d\" % (name, age)\n",
    "print(formatted)  "
   ]
  },
  {
   "cell_type": "code",
   "execution_count": 31,
   "metadata": {},
   "outputs": [
    {
     "name": "stdout",
     "output_type": "stream",
     "text": [
      "Name: Alice, Age: 30\n"
     ]
    }
   ],
   "source": [
    "# str.format() method:\n",
    "formatted = \"Name: {}, Age: {}\".format(name, age) \n",
    "print(formatted)"
   ]
  },
  {
   "cell_type": "code",
   "execution_count": 34,
   "metadata": {},
   "outputs": [
    {
     "name": "stdout",
     "output_type": "stream",
     "text": [
      "Name: Alice, Age: 30\n"
     ]
    }
   ],
   "source": [
    "# f-strings (Python 3.6+):\n",
    "formatted = f\"Name: {name}, Age: {age}\"\n",
    "print(formatted)"
   ]
  },
  {
   "cell_type": "markdown",
   "metadata": {},
   "source": [
    "Multiline Strings:"
   ]
  },
  {
   "cell_type": "code",
   "execution_count": 36,
   "metadata": {},
   "outputs": [
    {
     "name": "stdout",
     "output_type": "stream",
     "text": [
      "This is a string\n",
      "that spans multiple lines.\n"
     ]
    }
   ],
   "source": [
    "# Use triple quotes for multi-line strings or docstrings.\n",
    "multiline_str = \"\"\"This is a string\n",
    "that spans multiple lines.\"\"\"\n",
    "print(multiline_str)"
   ]
  },
  {
   "cell_type": "markdown",
   "metadata": {},
   "source": [
    "Unicode and Encoding:"
   ]
  },
  {
   "cell_type": "code",
   "execution_count": 37,
   "metadata": {},
   "outputs": [
    {
     "name": "stdout",
     "output_type": "stream",
     "text": [
      "b'Caf\\xc3\\xa9'\n"
     ]
    }
   ],
   "source": [
    "# Python 3 strings are Unicode by default, allowing for international characters.\n",
    "#Use .encode(encoding) to convert a string to bytes.\n",
    "s = \"Café\"\n",
    "encoded = s.encode(\"utf-8\") \n",
    "print(encoded) "
   ]
  },
  {
   "cell_type": "code",
   "execution_count": 38,
   "metadata": {},
   "outputs": [
    {
     "name": "stdout",
     "output_type": "stream",
     "text": [
      "Café\n"
     ]
    }
   ],
   "source": [
    "# Use .decode(encoding) to convert bytes back to a string.\n",
    "decoded = encoded.decode(\"utf-8\") \n",
    "print(decoded)  "
   ]
  },
  {
   "cell_type": "markdown",
   "metadata": {},
   "source": [
    "4. String Immutability"
   ]
  },
  {
   "cell_type": "markdown",
   "metadata": {},
   "source": [
    "Strings in Python are immutable, meaning that once a string is created, it cannot be changed. Any operation that modifies a string will create a new string."
   ]
  },
  {
   "cell_type": "code",
   "execution_count": 40,
   "metadata": {},
   "outputs": [
    {
     "name": "stdout",
     "output_type": "stream",
     "text": [
      "hello world\n"
     ]
    }
   ],
   "source": [
    "s = \"hello\"\n",
    "s = s + \" world\"\n",
    "print(s)"
   ]
  },
  {
   "cell_type": "markdown",
   "metadata": {},
   "source": [
    "5. String Interpolation"
   ]
  },
  {
   "cell_type": "code",
   "execution_count": 41,
   "metadata": {},
   "outputs": [
    {
     "name": "stdout",
     "output_type": "stream",
     "text": [
      "Name: Alice, Age: 30\n"
     ]
    }
   ],
   "source": [
    "# For more advanced formatting, you can use string.Template from the string module:\n",
    "from string import Template\n",
    "\n",
    "template = Template(\"Name: $name, Age: $age\")\n",
    "formatted = template.substitute(name=\"Alice\", age=30)\n",
    "print(formatted) "
   ]
  }
 ],
 "metadata": {
  "kernelspec": {
   "display_name": "Python 3",
   "language": "python",
   "name": "python3"
  },
  "language_info": {
   "codemirror_mode": {
    "name": "ipython",
    "version": 3
   },
   "file_extension": ".py",
   "mimetype": "text/x-python",
   "name": "python",
   "nbconvert_exporter": "python",
   "pygments_lexer": "ipython3",
   "version": "3.10.7"
  }
 },
 "nbformat": 4,
 "nbformat_minor": 2
}
