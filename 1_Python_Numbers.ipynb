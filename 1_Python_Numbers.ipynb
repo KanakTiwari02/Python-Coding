{
 "cells": [
  {
   "cell_type": "markdown",
   "metadata": {},
   "source": [
    "# Numeric Data Types in Python"
   ]
  },
  {
   "cell_type": "markdown",
   "metadata": {},
   "source": [
    "Python provides several types to work with numeric values. These are used to represent numbers, and they come in different forms: integers, floating-point numbers, and complex numbers. Below is a comprehensive explanation of each numeric data type in Python."
   ]
  },
  {
   "cell_type": "markdown",
   "metadata": {},
   "source": [
    "### 1. Integer (int)"
   ]
  },
  {
   "cell_type": "markdown",
   "metadata": {},
   "source": [
    "Definition:\n",
    "\n",
    "- Integers represent whole numbers without a decimal point.\n",
    "\n",
    "- In Python 3, the size of an integer is not fixed; it can grow to accommodate large numbers (only limited by the machine’s memory).\n",
    "\n",
    "\n",
    "Characteristics:\n",
    "\n",
    "- Positive or negative numbers and zero are considered integers.\n",
    "\n",
    "- Operations like addition, subtraction, multiplication, division, etc., can be performed on integers."
   ]
  },
  {
   "cell_type": "code",
   "execution_count": 1,
   "metadata": {},
   "outputs": [],
   "source": [
    "a = 10  # Positive integer\n",
    "b = -5  # Negative integer\n",
    "c = 0   # Zero (also an int)"
   ]
  },
  {
   "cell_type": "markdown",
   "metadata": {},
   "source": [
    "Common Operations:\n",
    "- Addition: 10 + 5 = 15\n",
    "- Subtraction: 10 - 5 = 5\n",
    "- Multiplication: 10 * 5 = 50\n",
    "- Division: 10 / 5 = 2.0 (Note: this returns a float)\n",
    "- Floor Division: 10 // 3 = 3 (returns the quotient as an integer)\n",
    "- Modulus: 10 % 3 = 1 (remainder of division)\n",
    "- Exponentiation: 2 ** 3 = 8 (2 raised to the power of 3)"
   ]
  },
  {
   "cell_type": "markdown",
   "metadata": {},
   "source": [
    "### Type Conversion:\n",
    "You can convert other types to integers using int()."
   ]
  },
  {
   "cell_type": "code",
   "execution_count": 3,
   "metadata": {},
   "outputs": [
    {
     "name": "stdout",
     "output_type": "stream",
     "text": [
      "3\n",
      "42\n"
     ]
    }
   ],
   "source": [
    "x = int(3.7)   # x = 3\n",
    "y = int(\"42\")  # y = 42\n",
    "print(x)\n",
    "print(y)"
   ]
  },
  {
   "cell_type": "markdown",
   "metadata": {},
   "source": [
    "### 2. Floating-Point (float)"
   ]
  },
  {
   "cell_type": "markdown",
   "metadata": {},
   "source": [
    "#### Definition:\n",
    "- A float represents real numbers with a decimal point (floating-point precision).\n",
    "\n",
    "- Floats can represent numbers as fractions or in scientific notation (e.g., 1.5, 3.14, 1.2e3).\n",
    "\n",
    "\n",
    "#### Characteristics:\n",
    "- Can store numbers with decimal points.\n",
    "- Supports operations like addition, subtraction, multiplication, and division.\n",
    "- Floats can suffer from precision errors due to the way they are stored in binary form."
   ]
  },
  {
   "cell_type": "code",
   "execution_count": 5,
   "metadata": {},
   "outputs": [],
   "source": [
    "x = 3.14  # float\n",
    "y = -0.5  # float\n",
    "z = 1.2e3 # float in scientific notation (1200.0)"
   ]
  },
  {
   "cell_type": "markdown",
   "metadata": {},
   "source": [
    "### Common Operations:\n",
    "- Similar to integers, but results often have decimal points.\n",
    "- Division: Always returns a float (e.g., 7 / 2 = 3.5).\n",
    "- Operations on floats result in floating-point numbers (e.g., 3.0 + 2 = 5.0)."
   ]
  },
  {
   "cell_type": "markdown",
   "metadata": {},
   "source": [
    "### Type Conversion:\n",
    "You can convert to float using float()."
   ]
  },
  {
   "cell_type": "code",
   "execution_count": 6,
   "metadata": {},
   "outputs": [],
   "source": [
    "x = float(10)      # x = 10.0\n",
    "y = float(\"3.14\")  # y = 3.14"
   ]
  },
  {
   "cell_type": "markdown",
   "metadata": {},
   "source": [
    "### Precision:\n",
    "- Floats have limited precision. Very small differences might be lost.\n",
    "- Example: 0.1 + 0.2 might not exactly equal 0.3 due to floating-point arithmetic limitations."
   ]
  },
  {
   "cell_type": "markdown",
   "metadata": {},
   "source": [
    "### 3. Complex Numbers (complex)"
   ]
  },
  {
   "cell_type": "markdown",
   "metadata": {},
   "source": [
    "Definition:\n",
    "- A complex number consists of a real part and an imaginary part.\n",
    "- Represented as a + bj, where a is the real part and b is the imaginary part, and j is used to denote the imaginary unit (the square root of -1).\n",
    "\n",
    "\n",
    "Characteristics:\n",
    "- Complex numbers are useful in mathematical applications such as solving quadratic equations, signal processing, etc.\n",
    "- The real part is accessed with .real and the imaginary part with .imag."
   ]
  },
  {
   "cell_type": "code",
   "execution_count": 9,
   "metadata": {},
   "outputs": [],
   "source": [
    "z = 3 + 4j  # complex number\n",
    "#In the above, 3 is the real part, and 4j is the imaginary part."
   ]
  },
  {
   "cell_type": "markdown",
   "metadata": {},
   "source": []
  },
  {
   "cell_type": "markdown",
   "metadata": {},
   "source": [
    "### Common Operations:\n",
    "You can perform standard arithmetic operations on complex numbers."
   ]
  },
  {
   "cell_type": "code",
   "execution_count": 11,
   "metadata": {},
   "outputs": [
    {
     "name": "stdout",
     "output_type": "stream",
     "text": [
      "(4+6j)\n"
     ]
    }
   ],
   "source": [
    "z1 = 1 + 2j\n",
    "z2 = 3 + 4j\n",
    "result = z1 + z2  # result = (4 + 6j)\n",
    "print(result)"
   ]
  },
  {
   "cell_type": "markdown",
   "metadata": {},
   "source": [
    "Accessing parts:"
   ]
  },
  {
   "cell_type": "code",
   "execution_count": 12,
   "metadata": {},
   "outputs": [
    {
     "name": "stdout",
     "output_type": "stream",
     "text": [
      "1.0\n",
      "2.0\n"
     ]
    }
   ],
   "source": [
    "z = 1 + 2j\n",
    "real_part = z.real  # 1.0\n",
    "imag_part = z.imag  # 2.0\n",
    "print(real_part)\n",
    "print(imag_part)"
   ]
  },
  {
   "cell_type": "markdown",
   "metadata": {},
   "source": [
    "### Type Conversion:\n",
    "You can create complex numbers using complex()."
   ]
  },
  {
   "cell_type": "code",
   "execution_count": 13,
   "metadata": {},
   "outputs": [
    {
     "name": "stdout",
     "output_type": "stream",
     "text": [
      "(2+3j)\n"
     ]
    }
   ],
   "source": [
    "z = complex(2, 3)  # z = 2 + 3j\n",
    "print(z)"
   ]
  },
  {
   "cell_type": "markdown",
   "metadata": {},
   "source": [
    "### Special Numeric Functions in Python"
   ]
  },
  {
   "cell_type": "markdown",
   "metadata": {},
   "source": [
    "#### abs():\n",
    "\n",
    "Returns the absolute value of a number."
   ]
  },
  {
   "cell_type": "code",
   "execution_count": 14,
   "metadata": {},
   "outputs": [
    {
     "data": {
      "text/plain": [
       "5.0"
      ]
     },
     "execution_count": 14,
     "metadata": {},
     "output_type": "execute_result"
    }
   ],
   "source": [
    "abs(-10)  # 10\n",
    "abs(3 + 4j)  # 5.0 (magnitude of the complex number)"
   ]
  },
  {
   "cell_type": "markdown",
   "metadata": {},
   "source": [
    "#### round():\n",
    "\n",
    "Rounds a floating-point number to a specified number of decimal places."
   ]
  },
  {
   "cell_type": "code",
   "execution_count": 15,
   "metadata": {},
   "outputs": [
    {
     "data": {
      "text/plain": [
       "3.14"
      ]
     },
     "execution_count": 15,
     "metadata": {},
     "output_type": "execute_result"
    }
   ],
   "source": [
    "round(3.14159, 2)  # 3.14\n"
   ]
  },
  {
   "cell_type": "markdown",
   "metadata": {},
   "source": [
    "#### pow():\n",
    "\n",
    "Returns the result of raising a number to a power (i.e., x**y)."
   ]
  },
  {
   "cell_type": "code",
   "execution_count": 16,
   "metadata": {},
   "outputs": [
    {
     "data": {
      "text/plain": [
       "8"
      ]
     },
     "execution_count": 16,
     "metadata": {},
     "output_type": "execute_result"
    }
   ],
   "source": [
    "pow(2, 3)  # 8\n"
   ]
  },
  {
   "cell_type": "markdown",
   "metadata": {},
   "source": [
    "#### divmod():\n",
    "\n",
    "Returns a tuple containing the quotient and remainder when dividing two numbers."
   ]
  },
  {
   "cell_type": "code",
   "execution_count": 17,
   "metadata": {},
   "outputs": [
    {
     "data": {
      "text/plain": [
       "(3, 1)"
      ]
     },
     "execution_count": 17,
     "metadata": {},
     "output_type": "execute_result"
    }
   ],
   "source": [
    "divmod(10, 3)  # (3, 1)\n"
   ]
  }
 ],
 "metadata": {
  "kernelspec": {
   "display_name": "Python 3",
   "language": "python",
   "name": "python3"
  },
  "language_info": {
   "codemirror_mode": {
    "name": "ipython",
    "version": 3
   },
   "file_extension": ".py",
   "mimetype": "text/x-python",
   "name": "python",
   "nbconvert_exporter": "python",
   "pygments_lexer": "ipython3",
   "version": "3.10.7"
  }
 },
 "nbformat": 4,
 "nbformat_minor": 2
}
