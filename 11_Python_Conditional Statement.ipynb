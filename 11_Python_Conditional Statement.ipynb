{
 "cells": [
  {
   "cell_type": "markdown",
   "metadata": {},
   "source": [
    "# Python Conditional Statements:"
   ]
  },
  {
   "cell_type": "markdown",
   "metadata": {},
   "source": [
    "Conditional statements are fundamental to controlling the flow of a program. They allow you to make decisions based on conditions and execute different blocks of code accordingly."
   ]
  },
  {
   "cell_type": "markdown",
   "metadata": {},
   "source": [
    "### 1. If Statement"
   ]
  },
  {
   "cell_type": "markdown",
   "metadata": {},
   "source": [
    "### Definition:\n",
    "The if statement is used to test a condition. If the condition is true, a block of code is executed; otherwise, the code is skipped."
   ]
  },
  {
   "cell_type": "markdown",
   "metadata": {},
   "source": [
    "### Syntax:\n",
    "if condition:\n",
    "\n",
    "    # block of code"
   ]
  },
  {
   "cell_type": "code",
   "execution_count": null,
   "metadata": {},
   "outputs": [],
   "source": [
    "x = 10\n",
    "if x > 5:\n",
    "    print(\"x is greater than 5\")\n"
   ]
  },
  {
   "cell_type": "markdown",
   "metadata": {},
   "source": [
    "### Key Points:\n",
    "Condition: An expression that evaluates to either True or False.\n",
    "\n",
    "Indentation: Python uses indentation to define the block of code that belongs \n",
    "to the if statement.\n",
    "\n",
    "Colon (:): A colon is used after the condition to start the block of code."
   ]
  },
  {
   "cell_type": "markdown",
   "metadata": {},
   "source": [
    "### 2. Else Statement\n",
    "- Definition:\n",
    "The else statement is used with an if statement to define a block of code that runs when the condition in the if statement is False."
   ]
  },
  {
   "cell_type": "markdown",
   "metadata": {},
   "source": [
    "### Syntax:\n",
    "if condition:\n",
    "\n",
    "    # if block\n",
    "\n",
    "\n",
    "else:\n",
    "\n",
    "    # else block\n"
   ]
  },
  {
   "cell_type": "code",
   "execution_count": 1,
   "metadata": {},
   "outputs": [
    {
     "name": "stdout",
     "output_type": "stream",
     "text": [
      "x is less than or equal to 5\n"
     ]
    }
   ],
   "source": [
    "x = 3\n",
    "if x > 5:\n",
    "    print(\"x is greater than 5\")\n",
    "else:\n",
    "    print(\"x is less than or equal to 5\")\n"
   ]
  },
  {
   "cell_type": "markdown",
   "metadata": {},
   "source": [
    "- Key Points:\n",
    "Else block: This block executes only if the if condition evaluates to False."
   ]
  },
  {
   "cell_type": "markdown",
   "metadata": {},
   "source": [
    "### 3. Elif Statement"
   ]
  },
  {
   "cell_type": "markdown",
   "metadata": {},
   "source": [
    "### Definition:\n",
    "The elif statement (short for \"else if\") allows for multiple conditions to be tested sequentially.\n",
    "\n",
    "The elif block executes when the preceding if or elif conditions are False and the current elif condition is True."
   ]
  },
  {
   "cell_type": "markdown",
   "metadata": {},
   "source": [
    "### Syntax:\n",
    "if condition1:\n",
    "\n",
    "    # if block\n",
    "\n",
    "elif condition2:\n",
    "\n",
    "    # elif block\n",
    "\n",
    "else:\n",
    "\n",
    "    # else block\n"
   ]
  },
  {
   "cell_type": "code",
   "execution_count": 2,
   "metadata": {},
   "outputs": [
    {
     "name": "stdout",
     "output_type": "stream",
     "text": [
      "x is equal to 8\n"
     ]
    }
   ],
   "source": [
    "x = 8\n",
    "if x > 10:\n",
    "    print(\"x is greater than 10\")\n",
    "elif x == 8:\n",
    "    print(\"x is equal to 8\")\n",
    "else:\n",
    "    print(\"x is less than 8\")\n"
   ]
  },
  {
   "cell_type": "markdown",
   "metadata": {},
   "source": [
    "### Key Points:\n",
    "Multiple conditions: You can use multiple elif statements to test different conditions.\n",
    "\n",
    "The else block is optional and can be omitted if there is no fallback behavior needed."
   ]
  },
  {
   "cell_type": "markdown",
   "metadata": {},
   "source": [
    "### 4. Nested If Statements"
   ]
  },
  {
   "cell_type": "markdown",
   "metadata": {},
   "source": [
    "### Definition:\n",
    "A nested if statement is an if statement inside another if statement. This allows for more complex condition checking."
   ]
  },
  {
   "cell_type": "markdown",
   "metadata": {},
   "source": [
    "### Syntax:\n",
    "if condition1:\n",
    "\n",
    "    if condition2:\n",
    "\n",
    "        # block of code\n",
    "\n",
    "    else:\n",
    "\n",
    "        # block of code\n",
    "\n",
    "else:\n",
    "\n",
    "    # block of code\n"
   ]
  },
  {
   "cell_type": "code",
   "execution_count": 3,
   "metadata": {},
   "outputs": [
    {
     "name": "stdout",
     "output_type": "stream",
     "text": [
      "x is greater than 10\n",
      "x is less than or equal to 20\n"
     ]
    }
   ],
   "source": [
    "x = 15\n",
    "if x > 10:\n",
    "    print(\"x is greater than 10\")\n",
    "    if x > 20:\n",
    "        print(\"x is greater than 20\")\n",
    "    else:\n",
    "        print(\"x is less than or equal to 20\")\n",
    "else:\n",
    "    print(\"x is less than or equal to 10\")\n"
   ]
  },
  {
   "cell_type": "markdown",
   "metadata": {},
   "source": [
    "### Key Points:\n",
    "Nested if-else blocks allow for deeper logical structures where one condition depends on another.\n",
    "\n",
    "Indentation plays an important role in distinguishing between different levels of conditions."
   ]
  },
  {
   "cell_type": "markdown",
   "metadata": {},
   "source": [
    "### 5. Conditional Expressions (Ternary Operator)"
   ]
  },
  {
   "cell_type": "markdown",
   "metadata": {},
   "source": [
    "### Definition:\n",
    "Python supports a shorthand version of the if-else statement, known as a ternary operator or conditional expression.\n",
    "\n",
    "It allows for conditional logic in a single line of code."
   ]
  },
  {
   "cell_type": "markdown",
   "metadata": {},
   "source": [
    "### Syntax:\n",
    "value_if_true if condition else value_if_false\n"
   ]
  },
  {
   "cell_type": "code",
   "execution_count": 4,
   "metadata": {},
   "outputs": [
    {
     "name": "stdout",
     "output_type": "stream",
     "text": [
      "Positive\n"
     ]
    }
   ],
   "source": [
    "x = 5\n",
    "result = \"Positive\" if x > 0 else \"Negative\"\n",
    "print(result)\n"
   ]
  },
  {
   "cell_type": "markdown",
   "metadata": {},
   "source": [
    "### Key Points:\n",
    "Ternary operators are useful for simple conditions and are often used for readability.\n",
    "\n",
    "Can be used as part of larger expressions or assignments."
   ]
  },
  {
   "cell_type": "markdown",
   "metadata": {},
   "source": [
    "### 6. Boolean Operators in Conditional Statements"
   ]
  },
  {
   "cell_type": "markdown",
   "metadata": {},
   "source": [
    "### Definition:\n",
    "Boolean operators are used to combine multiple conditions in a single if, elif, or else block.\n",
    "\n",
    "### Common Boolean operators:\n",
    "and: Returns True if both conditions are True.\n",
    "\n",
    "or: Returns True if at least one condition is True.\n",
    "\n",
    "not: Reverses the logical state of its operand (if True, becomes False, and vice versa)."
   ]
  },
  {
   "cell_type": "code",
   "execution_count": 6,
   "metadata": {},
   "outputs": [
    {
     "name": "stdout",
     "output_type": "stream",
     "text": [
      "x is between 5 and 10\n"
     ]
    }
   ],
   "source": [
    "# Using and:\n",
    "x = 7\n",
    "if x > 5 and x < 10:\n",
    "    print(\"x is between 5 and 10\")\n"
   ]
  },
  {
   "cell_type": "code",
   "execution_count": 10,
   "metadata": {},
   "outputs": [],
   "source": [
    "# Using or:\n",
    "x = 4\n",
    "if x < 3 or x > 5:\n",
    "    print(\"x is either less than 3 or greater than 5\")\n"
   ]
  },
  {
   "cell_type": "code",
   "execution_count": 8,
   "metadata": {},
   "outputs": [
    {
     "name": "stdout",
     "output_type": "stream",
     "text": [
      "x is not greater than 5\n"
     ]
    }
   ],
   "source": [
    "# Using not:\n",
    "x = 3\n",
    "if not x > 5:\n",
    "    print(\"x is not greater than 5\")\n"
   ]
  },
  {
   "cell_type": "markdown",
   "metadata": {},
   "source": [
    "- Key Points:\n",
    "\n",
    "and: Both conditions must be true for the overall expression to evaluate as True. \n",
    "\n",
    "or: Only one condition needs to be true for the expression to be True.\n",
    "\n",
    "not: Negates a condition, flipping True to False and vice versa."
   ]
  },
  {
   "cell_type": "markdown",
   "metadata": {},
   "source": [
    "### 7. Comparison Operators in Conditions\n",
    "\n",
    "### Definition:\n",
    "Python uses comparison operators to compare values in conditions. The most common operators are: \n",
    "\n",
    "==: Equal to.\n",
    "\n",
    "!=: Not equal to.\n",
    "\n",
    "<: Less than.\n",
    "\n",
    "<=: Less than or equal to.\n",
    "\n",
    "\">:\" Greater than.\n",
    "\n",
    "\">=:\" Greater than or equal to."
   ]
  },
  {
   "cell_type": "code",
   "execution_count": 11,
   "metadata": {},
   "outputs": [
    {
     "name": "stdout",
     "output_type": "stream",
     "text": [
      "x is 10\n",
      "x is not 5\n",
      "x is greater than 5\n"
     ]
    }
   ],
   "source": [
    "x = 10\n",
    "if x == 10:\n",
    "    print(\"x is 10\")\n",
    "if x != 5:\n",
    "    print(\"x is not 5\")\n",
    "if x > 5:\n",
    "    print(\"x is greater than 5\")\n"
   ]
  },
  {
   "cell_type": "markdown",
   "metadata": {},
   "source": [
    "### 8. Membership Operators in Conditions"
   ]
  },
  {
   "cell_type": "markdown",
   "metadata": {},
   "source": [
    "### Definition:\n",
    "Python has two membership operators (in and not in) to check whether a value exists in a sequence (such as a list, string, or tuple)."
   ]
  },
  {
   "cell_type": "code",
   "execution_count": 12,
   "metadata": {},
   "outputs": [
    {
     "name": "stdout",
     "output_type": "stream",
     "text": [
      "Banana is in the list\n"
     ]
    }
   ],
   "source": [
    "# Using in:\n",
    "fruits = ['apple', 'banana', 'cherry']\n",
    "if 'banana' in fruits:\n",
    "    print(\"Banana is in the list\")\n"
   ]
  },
  {
   "cell_type": "code",
   "execution_count": 13,
   "metadata": {},
   "outputs": [
    {
     "name": "stdout",
     "output_type": "stream",
     "text": [
      "Grape is not in the list\n"
     ]
    }
   ],
   "source": [
    "# Using not in:\n",
    "if 'grape' not in fruits:\n",
    "    print(\"Grape is not in the list\")\n"
   ]
  },
  {
   "cell_type": "markdown",
   "metadata": {},
   "source": [
    "- Key Points:\n",
    "\n",
    "in checks if a value exists in a sequence.\n",
    "\n",
    "not in checks if a value does not exist in a sequence."
   ]
  },
  {
   "cell_type": "markdown",
   "metadata": {},
   "source": [
    "### 9. Identity Operators in Conditions"
   ]
  },
  {
   "cell_type": "markdown",
   "metadata": {},
   "source": [
    "### Definition:\n",
    "Identity operators (is and is not) compare whether two objects refer to the same memory location."
   ]
  },
  {
   "cell_type": "code",
   "execution_count": 14,
   "metadata": {},
   "outputs": [
    {
     "name": "stdout",
     "output_type": "stream",
     "text": [
      "a and b refer to the same object\n"
     ]
    }
   ],
   "source": [
    "# Using is:\n",
    "a = [1, 2, 3]\n",
    "b = a\n",
    "if a is b:\n",
    "    print(\"a and b refer to the same object\")\n"
   ]
  },
  {
   "cell_type": "code",
   "execution_count": 15,
   "metadata": {},
   "outputs": [
    {
     "name": "stdout",
     "output_type": "stream",
     "text": [
      "a and c do not refer to the same object\n"
     ]
    }
   ],
   "source": [
    "# Using is not:\n",
    "c = [1, 2, 3]\n",
    "if a is not c:\n",
    "    print(\"a and c do not refer to the same object\")\n"
   ]
  },
  {
   "cell_type": "markdown",
   "metadata": {},
   "source": [
    "### Key Points:\n",
    "\n",
    "is: Checks if two variables point to the same object in memory.\n",
    "\n",
    "is not: Checks if two variables do not point to the same object."
   ]
  },
  {
   "cell_type": "markdown",
   "metadata": {},
   "source": [
    "### 10. Chained Conditions"
   ]
  },
  {
   "cell_type": "markdown",
   "metadata": {},
   "source": [
    "### Definition:\n",
    "Python allows you to chain multiple conditions together for more compact and readable code."
   ]
  },
  {
   "cell_type": "code",
   "execution_count": 16,
   "metadata": {},
   "outputs": [
    {
     "name": "stdout",
     "output_type": "stream",
     "text": [
      "x is between 1 and 10\n"
     ]
    }
   ],
   "source": [
    "x = 5\n",
    "if 1 < x < 10:\n",
    "    print(\"x is between 1 and 10\")\n"
   ]
  },
  {
   "cell_type": "markdown",
   "metadata": {},
   "source": [
    "### 11. Best Practices for Using Conditional Statements"
   ]
  },
  {
   "cell_type": "markdown",
   "metadata": {},
   "source": [
    "Keep conditions simple: Avoid overly complex conditions in a single line for readability.\n",
    "\n",
    "Use proper indentation: Indentation is key in Python, so ensure your conditions are properly indented to avoid syntax errors.\n",
    "\n",
    "Use elif to avoid unnecessary else chains: This helps make code cleaner and avoids nested if statements.\n",
    "\n",
    "Logical operators (and, or, not): Use these operators to combine multiple conditions logically and cleanly."
   ]
  }
 ],
 "metadata": {
  "kernelspec": {
   "display_name": "Python 3",
   "language": "python",
   "name": "python3"
  },
  "language_info": {
   "codemirror_mode": {
    "name": "ipython",
    "version": 3
   },
   "file_extension": ".py",
   "mimetype": "text/x-python",
   "name": "python",
   "nbconvert_exporter": "python",
   "pygments_lexer": "ipython3",
   "version": "3.10.7"
  }
 },
 "nbformat": 4,
 "nbformat_minor": 2
}
