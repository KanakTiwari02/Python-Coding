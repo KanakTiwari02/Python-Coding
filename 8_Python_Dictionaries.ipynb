{
 "cells": [
  {
   "cell_type": "markdown",
   "metadata": {},
   "source": [
    "# Dictionaries Data Type in Python"
   ]
  },
  {
   "cell_type": "markdown",
   "metadata": {},
   "source": [
    "A dictionary in Python is a built-in data structure that stores data in key-value pairs. Each key in the dictionary is unique and immutable (strings, numbers, or tuples), while the values associated with keys can be of any data type and can repeat."
   ]
  },
  {
   "cell_type": "markdown",
   "metadata": {},
   "source": [
    "dict_var = {key1: value1, key2: value2, ..., keyN: valueN}\n"
   ]
  },
  {
   "cell_type": "markdown",
   "metadata": {},
   "source": [
    "Key: Immutable and unique within a dictionary.\n",
    "\n",
    "Value: Can be of any data type and can be duplicated."
   ]
  },
  {
   "cell_type": "code",
   "execution_count": 1,
   "metadata": {},
   "outputs": [
    {
     "name": "stdout",
     "output_type": "stream",
     "text": [
      "{1: 'Apple', 2: 'Banana', 3: 'Orange'}\n"
     ]
    }
   ],
   "source": [
    "my_dict = {1: 'Apple', 2: 'Banana', 3: 'Orange'}\n",
    "print(my_dict)"
   ]
  },
  {
   "cell_type": "markdown",
   "metadata": {},
   "source": [
    "### Key Characteristics of Python Dictionaries\n",
    "- Unordered (Python < 3.7): Prior to Python 3.7, dictionaries did not maintain the insertion order.\n",
    "- Ordered (Python ≥ 3.7): Starting from Python 3.7, dictionaries preserve the insertion order.\n",
    "- Unique Keys: No two keys in a dictionary can be the same.\n",
    "- Mutable: Dictionaries are mutable, meaning you can add, update, or delete key-value pairs.\n",
    "- Case-Sensitive: Keys are case-sensitive, so 'Key' and 'key' are treated differently."
   ]
  },
  {
   "cell_type": "markdown",
   "metadata": {},
   "source": [
    "### Creating a Python Dictionary"
   ]
  },
  {
   "cell_type": "markdown",
   "metadata": {},
   "source": [
    "Dictionaries can be created using curly braces {} or the dict() constructor."
   ]
  },
  {
   "cell_type": "code",
   "execution_count": 2,
   "metadata": {},
   "outputs": [
    {
     "name": "stdout",
     "output_type": "stream",
     "text": [
      "{1: 'Apple', 2: 'Banana'}\n",
      "{1: 'Apple', 2: 'Banana'}\n"
     ]
    }
   ],
   "source": [
    "# Using curly braces\n",
    "my_dict = {1: 'Apple', 2: 'Banana'}\n",
    "print(my_dict)\n",
    "\n",
    "# Using dict() constructor\n",
    "my_dict = dict({1: 'Apple', 2: 'Banana'})\n",
    "print(my_dict)\n"
   ]
  },
  {
   "cell_type": "markdown",
   "metadata": {},
   "source": [
    "Empty Dictionary"
   ]
  },
  {
   "cell_type": "code",
   "execution_count": 3,
   "metadata": {},
   "outputs": [
    {
     "name": "stdout",
     "output_type": "stream",
     "text": [
      "{}\n"
     ]
    }
   ],
   "source": [
    "empty_dict = {}\n",
    "print(empty_dict)  # Output: {}"
   ]
  },
  {
   "cell_type": "markdown",
   "metadata": {},
   "source": [
    "Mixed Keys"
   ]
  },
  {
   "cell_type": "code",
   "execution_count": 4,
   "metadata": {},
   "outputs": [
    {
     "name": "stdout",
     "output_type": "stream",
     "text": [
      "{'name': 'John', 1: [2, 4, 3]}\n"
     ]
    }
   ],
   "source": [
    "my_dict = {'name': 'John', 1: [2, 4, 3]}\n",
    "print(my_dict)"
   ]
  },
  {
   "cell_type": "markdown",
   "metadata": {},
   "source": [
    "### Nested Dictionaries\n",
    "A dictionary can contain other dictionaries as values, allowing the creation of hierarchical structures."
   ]
  },
  {
   "cell_type": "code",
   "execution_count": 5,
   "metadata": {},
   "outputs": [
    {
     "name": "stdout",
     "output_type": "stream",
     "text": [
      "{1: 'Python', 2: {'A': 'Welcome', 'B': 'To', 'C': 'GeeksForGeeks'}}\n"
     ]
    }
   ],
   "source": [
    "nested_dict = {\n",
    "    1: 'Python',\n",
    "    2: {'A': 'Welcome', 'B': 'To', 'C': 'GeeksForGeeks'}\n",
    "}\n",
    "print(nested_dict)\n"
   ]
  },
  {
   "cell_type": "markdown",
   "metadata": {},
   "source": [
    "### Adding and Updating Elements\n",
    "- To add a new key-value pair: dict[key] = value\n",
    "- If the key already exists, its value will be updated."
   ]
  },
  {
   "cell_type": "code",
   "execution_count": 6,
   "metadata": {},
   "outputs": [
    {
     "name": "stdout",
     "output_type": "stream",
     "text": [
      "{0: 'Hello', 1: 'Python', 2: 42}\n"
     ]
    }
   ],
   "source": [
    "my_dict = {}\n",
    "my_dict[0] = 'Hello'\n",
    "my_dict[1] = 'World'\n",
    "my_dict[2] = 42\n",
    "\n",
    "my_dict[1] = 'Python'  # Updating an existing key\n",
    "print(my_dict)"
   ]
  },
  {
   "cell_type": "markdown",
   "metadata": {},
   "source": [
    "Adding Nested Elements"
   ]
  },
  {
   "cell_type": "code",
   "execution_count": 7,
   "metadata": {},
   "outputs": [
    {
     "name": "stdout",
     "output_type": "stream",
     "text": [
      "{0: 'Hello', 1: 'Python', 2: 42, 5: {'Nested': {'1': 'Life', '2': 'Geeks'}}}\n"
     ]
    }
   ],
   "source": [
    "my_dict[5] = {'Nested': {'1': 'Life', '2': 'Geeks'}}\n",
    "print(my_dict)"
   ]
  },
  {
   "cell_type": "markdown",
   "metadata": {},
   "source": [
    "### Accessing Dictionary Elements\n",
    "You can access a dictionary's value by referring to its key."
   ]
  },
  {
   "cell_type": "code",
   "execution_count": 8,
   "metadata": {},
   "outputs": [
    {
     "name": "stdout",
     "output_type": "stream",
     "text": [
      "John\n"
     ]
    }
   ],
   "source": [
    "my_dict = {1: 'Apple', 'name': 'John', 3: 'Orange'}\n",
    "print(my_dict['name'])  # Accessing using a key"
   ]
  },
  {
   "cell_type": "markdown",
   "metadata": {},
   "source": [
    "### Using get() Method\n",
    "The get() method returns the value for a given key and avoids KeyError if the key is not found."
   ]
  },
  {
   "cell_type": "code",
   "execution_count": 9,
   "metadata": {},
   "outputs": [
    {
     "name": "stdout",
     "output_type": "stream",
     "text": [
      "Orange\n",
      "Not Found\n"
     ]
    }
   ],
   "source": [
    "print(my_dict.get(3))   # Output: Orange\n",
    "print(my_dict.get(10, 'Not Found'))  # Output: Not Found"
   ]
  },
  {
   "cell_type": "markdown",
   "metadata": {},
   "source": [
    "### Accessing Nested Dictionary"
   ]
  },
  {
   "cell_type": "code",
   "execution_count": 10,
   "metadata": {},
   "outputs": [
    {
     "name": "stdout",
     "output_type": "stream",
     "text": [
      "Apple\n"
     ]
    }
   ],
   "source": [
    "nested_dict = {\n",
    "    'Dict1': {1: 'Apple'}, \n",
    "    'Dict2': {'Name': 'John'}\n",
    "}\n",
    "\n",
    "print(nested_dict['Dict1'][1])  # Output: Apple\n"
   ]
  },
  {
   "cell_type": "markdown",
   "metadata": {},
   "source": [
    "### Deleting Elements\n",
    "To delete elements, use the del keyword or dictionary methods such as pop() or clear()."
   ]
  },
  {
   "cell_type": "code",
   "execution_count": 11,
   "metadata": {},
   "outputs": [
    {
     "name": "stdout",
     "output_type": "stream",
     "text": [
      "{2: 'Banana', 3: 'Orange'}\n"
     ]
    }
   ],
   "source": [
    "my_dict = {1: 'Apple', 2: 'Banana', 3: 'Orange'}\n",
    "del my_dict[1]\n",
    "print(my_dict)"
   ]
  },
  {
   "cell_type": "markdown",
   "metadata": {},
   "source": [
    "Using pop() Method: Removes a specified key and returns its value"
   ]
  },
  {
   "cell_type": "code",
   "execution_count": 16,
   "metadata": {},
   "outputs": [
    {
     "data": {
      "text/plain": [
       "'hindi'"
      ]
     },
     "execution_count": 16,
     "metadata": {},
     "output_type": "execute_result"
    }
   ],
   "source": [
    "dict3 = {1: 'python', 2:'hindi', 3: 'english'}\n",
    "dict3.pop(2)  # Removes key 2 and returns its value"
   ]
  },
  {
   "cell_type": "markdown",
   "metadata": {},
   "source": [
    "Using popitem() Method: Removes and returns the last inserted key-value pair"
   ]
  },
  {
   "cell_type": "code",
   "execution_count": 17,
   "metadata": {},
   "outputs": [
    {
     "data": {
      "text/plain": [
       "(3, 'english')"
      ]
     },
     "execution_count": 17,
     "metadata": {},
     "output_type": "execute_result"
    }
   ],
   "source": [
    "dict3.popitem()"
   ]
  },
  {
   "cell_type": "markdown",
   "metadata": {},
   "source": [
    "Using clear() Method: Removes all elements from the dictionary"
   ]
  },
  {
   "cell_type": "code",
   "execution_count": 18,
   "metadata": {},
   "outputs": [],
   "source": [
    "dict3.clear()  # Clears the entire dictionary"
   ]
  },
  {
   "cell_type": "markdown",
   "metadata": {},
   "source": [
    "### Dictionary Methods\n",
    "dict(): Creates a new dictionary or converts a \n",
    "sequence of key-value pairs to a dictionary.\n",
    "\n",
    "clear(): Removes all elements from the dictionary.\n",
    "\n",
    "copy(): Returns a shallow copy of the dictionary.\n",
    "\n",
    "get(key, default=None): Returns the value for the given key if it exists; otherwise, returns the default value.\n",
    "\n",
    "items(): Returns a view object of dictionary’s key-value pairs as tuples.\n",
    "\n",
    "keys(): Returns a view object of all dictionary keys.\n",
    "\n",
    "values(): Returns a view object of all dictionary values.\n",
    "\n",
    "update(dict2): Adds elements from another dictionary (or an iterable of key-value pairs).\n",
    "\n",
    "pop(key): Removes the specified key and returns the corresponding value.\n",
    "\n",
    "popitem(): Removes and returns the last inserted key-value pair.\n",
    "\n",
    "setdefault(key, default=None): Inserts the key with a specified default value if the key is not already present."
   ]
  },
  {
   "cell_type": "markdown",
   "metadata": {},
   "source": [
    "### Time and Space Complexities\n",
    "\n",
    "Time Complexity:\n",
    "- Creating: O(len(dict))\n",
    "- Accessing: O(1)\n",
    "- Adding/Updating: O(1) for average cases\n",
    "\n",
    "Space Complexity:\n",
    "-Depends on the number of elements stored, typically O(n)."
   ]
  },
  {
   "cell_type": "markdown",
   "metadata": {},
   "source": []
  }
 ],
 "metadata": {
  "kernelspec": {
   "display_name": "Python 3",
   "language": "python",
   "name": "python3"
  },
  "language_info": {
   "codemirror_mode": {
    "name": "ipython",
    "version": 3
   },
   "file_extension": ".py",
   "mimetype": "text/x-python",
   "name": "python",
   "nbconvert_exporter": "python",
   "pygments_lexer": "ipython3",
   "version": "3.10.7"
  }
 },
 "nbformat": 4,
 "nbformat_minor": 2
}
