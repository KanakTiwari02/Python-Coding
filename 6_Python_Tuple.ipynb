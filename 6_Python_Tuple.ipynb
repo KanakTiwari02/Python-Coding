{
 "cells": [
  {
   "cell_type": "markdown",
   "metadata": {},
   "source": [
    "# Tuples Data Type in Python"
   ]
  },
  {
   "cell_type": "markdown",
   "metadata": {},
   "source": [
    "### Definition:\n",
    "\n",
    "A tuple in Python is an ordered collection of elements, similar to a list, but with one key difference—tuples are immutable, meaning their elements cannot be modified once assigned.\n"
   ]
  },
  {
   "cell_type": "markdown",
   "metadata": {},
   "source": [
    "The elements of a tuple can be of any data type, including numbers, strings, lists, and even other tuples. The sequence of values in a tuple is indexed by integers, and the values are separated by commas."
   ]
  },
  {
   "cell_type": "markdown",
   "metadata": {},
   "source": [
    "### Key Characteristics of Tuples:"
   ]
  },
  {
   "cell_type": "markdown",
   "metadata": {},
   "source": [
    "*Immutable:* Tuples cannot be changed after their creation.\n",
    "\n",
    "*Indexed:* Elements in a tuple are indexed starting from 0, allowing access through integer indices.\n",
    "\n",
    "*Heterogeneous:* Tuples can store elements of different data types.\n",
    "\n",
    "*Syntactic Definition:* Although parentheses () are used commonly to define tuples, the key requirement is that elements be separated by commas."
   ]
  },
  {
   "cell_type": "markdown",
   "metadata": {},
   "source": [
    "### 1. Creating a Tuple:\n",
    "Tuples can be created in several ways:"
   ]
  },
  {
   "cell_type": "code",
   "execution_count": 1,
   "metadata": {},
   "outputs": [
    {
     "name": "stdout",
     "output_type": "stream",
     "text": [
      "()\n",
      "(1, 2, 'Python', 3.5)\n"
     ]
    }
   ],
   "source": [
    "# Empty tuple\n",
    "empty_tuple = ()\n",
    "print(empty_tuple)  # Output: ()\n",
    "\n",
    "# Tuple with multiple elements\n",
    "tuple1 = (1, 2, 'Python', 3.5)\n",
    "print(tuple1)"
   ]
  },
  {
   "cell_type": "markdown",
   "metadata": {},
   "source": [
    "### Without Parentheses (Tuple Packing): \n",
    "When a tuple is created without parentheses, it is referred to as tuple packing."
   ]
  },
  {
   "cell_type": "code",
   "execution_count": 3,
   "metadata": {},
   "outputs": [
    {
     "name": "stdout",
     "output_type": "stream",
     "text": [
      "(1, 2, 'Python')\n"
     ]
    }
   ],
   "source": [
    "# Tuple without parentheses\n",
    "tuple2 = 1, 2, 'Python'\n",
    "print(tuple2)  # Output: (1, 2, 'Python')"
   ]
  },
  {
   "cell_type": "markdown",
   "metadata": {},
   "source": [
    "From a List: Tuples can also be created using the tuple() constructor."
   ]
  },
  {
   "cell_type": "code",
   "execution_count": 6,
   "metadata": {},
   "outputs": [
    {
     "name": "stdout",
     "output_type": "stream",
     "text": [
      "(1, 2, 4, 5)\n",
      "<class 'tuple'>\n"
     ]
    }
   ],
   "source": [
    "# Converting list to tuple\n",
    "list1 = [1, 2, 4, 5]\n",
    "tuple_from_list = tuple(list1)\n",
    "print(tuple_from_list)\n",
    "print(type(tuple_from_list))"
   ]
  },
  {
   "cell_type": "markdown",
   "metadata": {},
   "source": [
    "Single Element Tuple: For a tuple with a single element, a trailing comma is required, otherwise, Python will treat it as a scalar value."
   ]
  },
  {
   "cell_type": "code",
   "execution_count": 7,
   "metadata": {},
   "outputs": [
    {
     "name": "stdout",
     "output_type": "stream",
     "text": [
      "(5,)\n"
     ]
    }
   ],
   "source": [
    "# Single element tuple\n",
    "single_element_tuple = (5,)\n",
    "print(single_element_tuple)"
   ]
  },
  {
   "cell_type": "markdown",
   "metadata": {},
   "source": [
    "### 2. Tuple with Mixed Data Types:\n",
    "Tuples can hold elements of different data types:"
   ]
  },
  {
   "cell_type": "code",
   "execution_count": 8,
   "metadata": {},
   "outputs": [
    {
     "name": "stdout",
     "output_type": "stream",
     "text": [
      "(5, 'Hello', 3.14, [1, 2, 3])\n"
     ]
    }
   ],
   "source": [
    "mixed_tuple = (5, \"Hello\", 3.14, [1, 2, 3])\n",
    "print(mixed_tuple)"
   ]
  },
  {
   "cell_type": "markdown",
   "metadata": {},
   "source": [
    "Nested Tuples: Tuples can be nested, allowing a tuple to contain other tuples."
   ]
  },
  {
   "cell_type": "code",
   "execution_count": 12,
   "metadata": {},
   "outputs": [
    {
     "name": "stdout",
     "output_type": "stream",
     "text": [
      "((0, 1, 2), ('Python', 'world'))\n"
     ]
    }
   ],
   "source": [
    "tuple1 = (0, 1, 2)\n",
    "tuple2 = ('Python', 'world')\n",
    "nested_tuple = (tuple1, tuple2)\n",
    "print(nested_tuple)"
   ]
  },
  {
   "cell_type": "markdown",
   "metadata": {},
   "source": [
    "Repetition of Tuples: Tuples can be repeated using the * operator."
   ]
  },
  {
   "cell_type": "code",
   "execution_count": 10,
   "metadata": {},
   "outputs": [
    {
     "name": "stdout",
     "output_type": "stream",
     "text": [
      "('Python', 'Python', 'Python')\n"
     ]
    }
   ],
   "source": [
    "repeated_tuple = ('Python',) * 3  # ('Python', 'Python', 'Python')\n",
    "print(repeated_tuple)"
   ]
  },
  {
   "cell_type": "markdown",
   "metadata": {},
   "source": [
    "Tuple with Loops: Tuples can be iterated over using loops, though the tuple itself remains immutable."
   ]
  },
  {
   "cell_type": "code",
   "execution_count": 13,
   "metadata": {},
   "outputs": [
    {
     "name": "stdout",
     "output_type": "stream",
     "text": [
      "(('python',),)\n",
      "((('python',),),)\n",
      "(((('python',),),),)\n"
     ]
    }
   ],
   "source": [
    "tuple1 = ('python',)\n",
    "for i in range(3):\n",
    "    tuple1 = (tuple1,)\n",
    "    print(tuple1)"
   ]
  },
  {
   "cell_type": "markdown",
   "metadata": {},
   "source": [
    "### 3. Operations on Tuples:\n",
    "Though tuples are immutable, several operations can be performed on them"
   ]
  },
  {
   "cell_type": "markdown",
   "metadata": {},
   "source": [
    "Accessing Tuple Elements: Elements can be accessed using indexing."
   ]
  },
  {
   "cell_type": "code",
   "execution_count": 15,
   "metadata": {},
   "outputs": [
    {
     "name": "stdout",
     "output_type": "stream",
     "text": [
      "A\n"
     ]
    }
   ],
   "source": [
    "tuple1 = ('A', 'For', 'apple')\n",
    "print(tuple1[0])  \n"
   ]
  },
  {
   "cell_type": "markdown",
   "metadata": {},
   "source": [
    "Unpacking a Tuple: You can unpack tuple elements into variables."
   ]
  },
  {
   "cell_type": "code",
   "execution_count": 17,
   "metadata": {},
   "outputs": [
    {
     "name": "stdout",
     "output_type": "stream",
     "text": [
      "A For Apple\n"
     ]
    }
   ],
   "source": [
    "tuple1 = ('A', 'For', 'Apple')\n",
    "a, b, c = tuple1\n",
    "print(a, b, c)  \n"
   ]
  },
  {
   "cell_type": "markdown",
   "metadata": {},
   "source": [
    "### 4. Concatenation of Tuples:\n",
    "Tuples can be concatenated using the + operator."
   ]
  },
  {
   "cell_type": "code",
   "execution_count": 19,
   "metadata": {},
   "outputs": [
    {
     "name": "stdout",
     "output_type": "stream",
     "text": [
      "(1, 2, 3, 'Python', 'world')\n"
     ]
    }
   ],
   "source": [
    "tuple1 = (1, 2, 3)\n",
    "tuple2 = ('Python', 'world')\n",
    "concatenated_tuple = tuple1 + tuple2\n",
    "print(concatenated_tuple)"
   ]
  },
  {
   "cell_type": "markdown",
   "metadata": {},
   "source": [
    "Note: Only tuples can be concatenated; combining tuples with other data types (e.g., lists) will raise an error."
   ]
  },
  {
   "cell_type": "markdown",
   "metadata": {},
   "source": [
    "### 5. Slicing of Tuples:\n",
    "Slicing allows extraction of a subset of elements from a tuple."
   ]
  },
  {
   "cell_type": "code",
   "execution_count": 20,
   "metadata": {},
   "outputs": [
    {
     "name": "stdout",
     "output_type": "stream",
     "text": [
      "('E', 'L', 'L', 'O', 'C', 'A', 'R')\n",
      "('R', 'A', 'C', 'O', 'L', 'L', 'E', 'Y')\n",
      "('L', 'O', 'C')\n"
     ]
    }
   ],
   "source": [
    "tuple1 = ('Y', 'E', 'L', 'L', 'O', 'C', 'A', 'R')\n",
    "\n",
    "# Slice from index 1 to the end\n",
    "print(tuple1[1:])\n",
    "\n",
    "# Reverse the tuple\n",
    "print(tuple1[::-1])\n",
    "\n",
    "# Extract elements within a specific range\n",
    "print(tuple1[3:6])\n"
   ]
  },
  {
   "cell_type": "markdown",
   "metadata": {},
   "source": [
    "### 6. Deleting Tuples:\n",
    "Since tuples are immutable, you cannot delete individual elements, but the entire tuple can be deleted."
   ]
  },
  {
   "cell_type": "code",
   "execution_count": 24,
   "metadata": {},
   "outputs": [],
   "source": [
    "tuple1 = (1, 2, 3)\n",
    "del tuple1  # This deletes the entire tuple"
   ]
  },
  {
   "cell_type": "markdown",
   "metadata": {},
   "source": [
    "### 7. Built-in Methods:\n",
    "Tuples have two key methods:"
   ]
  },
  {
   "cell_type": "markdown",
   "metadata": {},
   "source": [
    "index(): Returns the index of the first occurrence of a specified value."
   ]
  },
  {
   "cell_type": "code",
   "execution_count": 25,
   "metadata": {},
   "outputs": [
    {
     "name": "stdout",
     "output_type": "stream",
     "text": [
      "1\n"
     ]
    }
   ],
   "source": [
    "tuple1 = ('a', 'b', 'c')\n",
    "print(tuple1.index('b'))  # Output: 1"
   ]
  },
  {
   "cell_type": "markdown",
   "metadata": {},
   "source": [
    "count(): Counts the occurrences of a specified value in the tuple."
   ]
  },
  {
   "cell_type": "code",
   "execution_count": 26,
   "metadata": {},
   "outputs": [
    {
     "name": "stdout",
     "output_type": "stream",
     "text": [
      "2\n"
     ]
    }
   ],
   "source": [
    "tuple1 = (1, 2, 3, 1)\n",
    "print(tuple1.count(1))  # Output: 2"
   ]
  },
  {
   "cell_type": "markdown",
   "metadata": {},
   "source": [
    "### 8. Built-in Functions:\n",
    "Several built-in functions can be applied to tuples:\n",
    "\n",
    "all(): Returns True if all elements are true (or if the tuple is empty).\n",
    "\n",
    "any(): Returns True if at least one element is true.\n",
    "\n",
    "len(): Returns the length of the tuple.\n",
    "\n",
    "max()/min(): Returns the maximum/minimum value in the tuple.\n",
    "\n",
    "sum(): Sums up the elements in the tuple (only for numeric values).\n",
    "\n",
    "sorted(): Returns a sorted list of tuple elements.\n",
    "\n",
    "tuple(): Converts an iterable (e.g., list) into a tuple."
   ]
  }
 ],
 "metadata": {
  "kernelspec": {
   "display_name": "Python 3",
   "language": "python",
   "name": "python3"
  },
  "language_info": {
   "codemirror_mode": {
    "name": "ipython",
    "version": 3
   },
   "file_extension": ".py",
   "mimetype": "text/x-python",
   "name": "python",
   "nbconvert_exporter": "python",
   "pygments_lexer": "ipython3",
   "version": "3.10.7"
  }
 },
 "nbformat": 4,
 "nbformat_minor": 2
}
