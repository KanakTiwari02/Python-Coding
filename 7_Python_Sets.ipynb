{
 "cells": [
  {
   "cell_type": "markdown",
   "metadata": {},
   "source": [
    "# Sets Data Type in Python"
   ]
  },
  {
   "cell_type": "markdown",
   "metadata": {},
   "source": [
    "### Definition: \n",
    "A set in Python is an unordered collection of unique, immutable elements. It is iterable, mutable, and primarily used to store non-duplicate elements. The major advantage of a set over a list is the optimized method for checking whether an element exists in the set."
   ]
  },
  {
   "cell_type": "markdown",
   "metadata": {},
   "source": [
    "### Key Characteristics:\n",
    "- Unordered: Set elements have no specific order.\n",
    "- Unique: Sets contain only unique elements (duplicates are automatically removed).\n",
    "- Mutable: Elements can be added or removed, but the set itself cannot contain mutable elements like lists or dictionaries.\n",
    "- Hashable: The elements of a set must be hashable, i.e., they should have a hash value and must be immutable like numbers, strings, or tuples."
   ]
  },
  {
   "cell_type": "markdown",
   "metadata": {},
   "source": [
    "### Creating a Set in Python\n",
    "Sets can be created using the set() constructor or by placing elements inside curly braces {}, separated by commas.\n",
    "\n",
    "1: Using set() Function"
   ]
  },
  {
   "cell_type": "code",
   "execution_count": 1,
   "metadata": {},
   "outputs": [
    {
     "name": "stdout",
     "output_type": "stream",
     "text": [
      "Empty set: set()\n"
     ]
    }
   ],
   "source": [
    "set1 = set()\n",
    "print(\"Empty set:\", set1)"
   ]
  },
  {
   "cell_type": "markdown",
   "metadata": {},
   "source": [
    "2: Creating Set from String"
   ]
  },
  {
   "cell_type": "code",
   "execution_count": 3,
   "metadata": {},
   "outputs": [
    {
     "name": "stdout",
     "output_type": "stream",
     "text": [
      "{'t', 'e', 'm', 'P', 'n', 'o', 'w', 'h', 'y', 'i'}\n"
     ]
    }
   ],
   "source": [
    "set1 = set(\"Pythonwithme\")\n",
    "print(set1)"
   ]
  },
  {
   "cell_type": "markdown",
   "metadata": {},
   "source": [
    "3: Creating Set from List, Tuple, and Dictionary"
   ]
  },
  {
   "cell_type": "code",
   "execution_count": 4,
   "metadata": {},
   "outputs": [
    {
     "name": "stdout",
     "output_type": "stream",
     "text": [
      "{'Python', 'Hindi', 'Maths'} {'Python', 'Hindi', 'Maths'} {'Python', 'Hindi'}\n"
     ]
    }
   ],
   "source": [
    "set_from_list = set([\"Python\", \"Maths\", \"Hindi\"])\n",
    "set_from_tuple = set((\"Python\", \"Maths\", \"Hindi\"))\n",
    "set_from_dict = set({\"Python\": 1, \"Hindi\": 2})\n",
    "print(set_from_list, set_from_tuple, set_from_dict)\n"
   ]
  },
  {
   "cell_type": "markdown",
   "metadata": {},
   "source": [
    "### Time Complexity:\n",
    "- Creation: O(n), where n is the length of the input iterable (string, list, tuple, etc.).\n",
    "- Auxiliary Space: O(n), where n is the length of the input iterable."
   ]
  },
  {
   "cell_type": "markdown",
   "metadata": {},
   "source": [
    "### Adding Elements to a Set"
   ]
  },
  {
   "cell_type": "markdown",
   "metadata": {},
   "source": [
    "### 1. Using add() Method:\n",
    "- Adds a single element to the set.\n",
    "- Lists cannot be added since they are mutable, but tuples can be added."
   ]
  },
  {
   "cell_type": "code",
   "execution_count": 5,
   "metadata": {},
   "outputs": [
    {
     "name": "stdout",
     "output_type": "stream",
     "text": [
      "{8, 9, (6, 7)}\n"
     ]
    }
   ],
   "source": [
    "set1 = set()\n",
    "set1.add(8)\n",
    "set1.add(9)\n",
    "set1.add((6, 7))\n",
    "print(set1)\n"
   ]
  },
  {
   "cell_type": "markdown",
   "metadata": {},
   "source": [
    "### 2. Using update() Method:\n",
    "Adds multiple elements to the set. It accepts lists, strings, tuples, or other sets as arguments."
   ]
  },
  {
   "cell_type": "code",
   "execution_count": 6,
   "metadata": {},
   "outputs": [
    {
     "name": "stdout",
     "output_type": "stream",
     "text": [
      "{4, 5, 10, 11, (6, 7)}\n"
     ]
    }
   ],
   "source": [
    "set1 = set([4, 5, (6, 7)])\n",
    "set1.update([10, 11])\n",
    "print(set1)"
   ]
  },
  {
   "cell_type": "markdown",
   "metadata": {},
   "source": [
    "### Accessing Elements in a Set\n",
    "Sets do not support indexing due to their unordered nature. However, you can iterate through a set using a for loop or check if an element exists using the in keyword."
   ]
  },
  {
   "cell_type": "code",
   "execution_count": 7,
   "metadata": {},
   "outputs": [
    {
     "name": "stdout",
     "output_type": "stream",
     "text": [
      "English\n",
      "Python\n",
      "Hindi\n",
      "True\n"
     ]
    }
   ],
   "source": [
    "set1 = set([\"Python\", \"English\", \"Hindi\"])\n",
    "for item in set1:\n",
    "    print(item)\n",
    "print(\"Python\" in set1)\n"
   ]
  },
  {
   "cell_type": "markdown",
   "metadata": {},
   "source": [
    "### Removing Elements from a Set"
   ]
  },
  {
   "cell_type": "markdown",
   "metadata": {},
   "source": [
    "### 1. Using remove() and discard():\n",
    "- remove(): Raises a KeyError if the element is not found.\n",
    "- discard(): Does not raise an error if the element is not found."
   ]
  },
  {
   "cell_type": "code",
   "execution_count": 8,
   "metadata": {},
   "outputs": [
    {
     "name": "stdout",
     "output_type": "stream",
     "text": [
      "{1, 2, 4, 6}\n"
     ]
    }
   ],
   "source": [
    "set1 = set([1, 2, 3, 4, 5, 6])\n",
    "set1.remove(5)  # Raises KeyError if not found\n",
    "set1.discard(3)  # Does not raise KeyError\n",
    "print(set1)"
   ]
  },
  {
   "cell_type": "markdown",
   "metadata": {},
   "source": [
    "### 2. Using pop():\n",
    "Removes a random element from the set and returns it. Since sets are unordered, there is no way to predict which element will be removed."
   ]
  },
  {
   "cell_type": "code",
   "execution_count": 9,
   "metadata": {},
   "outputs": [
    {
     "name": "stdout",
     "output_type": "stream",
     "text": [
      "{2, 3, 4}\n"
     ]
    }
   ],
   "source": [
    "set1 = set([1, 2, 3, 4])\n",
    "set1.pop()\n",
    "print(set1)"
   ]
  },
  {
   "cell_type": "markdown",
   "metadata": {},
   "source": [
    "### 3. Using clear():\n",
    "Removes all elements from the set, leaving it empty."
   ]
  },
  {
   "cell_type": "code",
   "execution_count": 10,
   "metadata": {},
   "outputs": [
    {
     "name": "stdout",
     "output_type": "stream",
     "text": [
      "set()\n"
     ]
    }
   ],
   "source": [
    "set1 = set([1, 2, 3])\n",
    "set1.clear()\n",
    "print(set1)"
   ]
  },
  {
   "cell_type": "markdown",
   "metadata": {},
   "source": [
    "### Frozen Sets in Python\n",
    "A frozen set is an immutable version of a set. It cannot be changed after creation, making it hashable and usable as dictionary keys or in other sets."
   ]
  },
  {
   "cell_type": "code",
   "execution_count": 14,
   "metadata": {},
   "outputs": [
    {
     "name": "stdout",
     "output_type": "stream",
     "text": [
      "frozenset({'H', 'P', 'O', 'Y', 'N', 'T'})\n"
     ]
    }
   ],
   "source": [
    "fset = frozenset(['P', 'Y', 'T', 'H', 'O',\"N\"])\n",
    "print(fset)\n"
   ]
  },
  {
   "cell_type": "markdown",
   "metadata": {},
   "source": [
    "### Set Operations in Python\n",
    "Python sets support mathematical set operations such as union, intersection, difference, and symmetric difference."
   ]
  },
  {
   "cell_type": "markdown",
   "metadata": {},
   "source": [
    "### 1. Union (|): Returns all unique elements from both sets."
   ]
  },
  {
   "cell_type": "code",
   "execution_count": 15,
   "metadata": {},
   "outputs": [
    {
     "name": "stdout",
     "output_type": "stream",
     "text": [
      "{1, 2, 3, 4, 5}\n"
     ]
    }
   ],
   "source": [
    "set1 = {1, 2, 3}\n",
    "set2 = {3, 4, 5}\n",
    "print(set1 | set2)"
   ]
  },
  {
   "cell_type": "markdown",
   "metadata": {},
   "source": [
    "### 2. Intersection (&): Returns only the elements common to both sets."
   ]
  },
  {
   "cell_type": "code",
   "execution_count": 16,
   "metadata": {},
   "outputs": [
    {
     "name": "stdout",
     "output_type": "stream",
     "text": [
      "{3}\n"
     ]
    }
   ],
   "source": [
    "print(set1 & set2)"
   ]
  },
  {
   "cell_type": "markdown",
   "metadata": {},
   "source": [
    "### 3. Difference (-): Returns elements in the first set that are not in the second set."
   ]
  },
  {
   "cell_type": "code",
   "execution_count": 17,
   "metadata": {},
   "outputs": [
    {
     "name": "stdout",
     "output_type": "stream",
     "text": [
      "{1, 2}\n"
     ]
    }
   ],
   "source": [
    "print(set1 - set2)"
   ]
  },
  {
   "cell_type": "markdown",
   "metadata": {},
   "source": [
    "### 4. Symmetric Difference (^): Returns elements in either set, but not in both."
   ]
  },
  {
   "cell_type": "code",
   "execution_count": 18,
   "metadata": {},
   "outputs": [
    {
     "name": "stdout",
     "output_type": "stream",
     "text": [
      "{1, 2, 4, 5}\n"
     ]
    }
   ],
   "source": [
    "print(set1 ^ set2)"
   ]
  },
  {
   "cell_type": "markdown",
   "metadata": {},
   "source": [
    "### Typecasting to Sets\n",
    "You can convert other data structures such as lists, strings, or dictionaries into sets, which will eliminate duplicates and retain only unique elements."
   ]
  },
  {
   "cell_type": "code",
   "execution_count": 19,
   "metadata": {},
   "outputs": [
    {
     "name": "stdout",
     "output_type": "stream",
     "text": [
      "{1, 2, 3, 4}\n",
      "{'H', 'e', 'd', 'w', 'o', 'r', 'l'}\n"
     ]
    }
   ],
   "source": [
    "my_list = [1, 2, 3, 3, 4]\n",
    "my_set = set(my_list)\n",
    "print(my_set)\n",
    "\n",
    "my_str = \"Helloworld\"\n",
    "my_set_str = set(my_str)\n",
    "print(my_set_str)\n"
   ]
  },
  {
   "cell_type": "markdown",
   "metadata": {},
   "source": []
  }
 ],
 "metadata": {
  "kernelspec": {
   "display_name": "Python 3",
   "language": "python",
   "name": "python3"
  },
  "language_info": {
   "codemirror_mode": {
    "name": "ipython",
    "version": 3
   },
   "file_extension": ".py",
   "mimetype": "text/x-python",
   "name": "python",
   "nbconvert_exporter": "python",
   "pygments_lexer": "ipython3",
   "version": "3.10.7"
  }
 },
 "nbformat": 4,
 "nbformat_minor": 2
}
