{
 "cells": [
  {
   "cell_type": "markdown",
   "metadata": {},
   "source": [
    "# Python Operators"
   ]
  },
  {
   "cell_type": "markdown",
   "metadata": {},
   "source": [
    "### Introduction to Python Operators\n",
    "Operators are symbols or keywords that tell the Python interpreter to perform a specific operation. The operation could be mathematical, logical, or comparative, among others. Operands are the values or variables the operators work on.\n",
    "\n",
    "Python provides various types of operators, categorized as:\n",
    "\n",
    "1. Arithmetic Operators\n",
    "2. Comparison (Relational) Operators\n",
    "3. Assignment Operators\n",
    "4. Logical Operators\n",
    "5. Bitwise Operators\n",
    "6. Membership Operators\n",
    "7. Identity Operators\n"
   ]
  },
  {
   "cell_type": "markdown",
   "metadata": {},
   "source": [
    "### 1. Arithmetic Operators\n",
    "\n",
    "Arithmetic operators are used to perform mathematical operations like addition, subtraction, multiplication, etc.\n",
    "\n",
    "| Operator | Description            | Example         | Result            |\n",
    "|----------|------------------------|-----------------|-------------------|\n",
    "| `+`      | Addition                | `5 + 3`         | `8`               |\n",
    "| `-`      | Subtraction             | `10 - 5`        | `5`               |\n",
    "| `*`      | Multiplication          | `4 * 3`         | `12`              |\n",
    "| `/`      | Division                | `15 / 3`        | `5.0`             |\n",
    "| `%`      | Modulus (Remainder)     | `10 % 3`        | `1`               |\n",
    "| `**`     | Exponentiation          | `2 ** 3`        | `8`               |\n",
    "| `//`     | Floor Division          | `17 // 3`       | `5`               |"
   ]
  },
  {
   "cell_type": "code",
   "execution_count": 1,
   "metadata": {},
   "outputs": [
    {
     "name": "stdout",
     "output_type": "stream",
     "text": [
      "13\n",
      "7\n",
      "30\n",
      "3.3333333333333335\n",
      "1\n",
      "1000\n",
      "3\n"
     ]
    }
   ],
   "source": [
    "x = 10\n",
    "y = 3\n",
    "\n",
    "# Addition\n",
    "print(x + y)  # Output: 13\n",
    "\n",
    "# Subtraction\n",
    "print(x - y)  # Output: 7\n",
    "\n",
    "# Multiplication\n",
    "print(x * y)  # Output: 30\n",
    "\n",
    "# Division\n",
    "print(x / y)  # Output: 3.3333...\n",
    "\n",
    "# Modulus\n",
    "print(x % y)  # Output: 1\n",
    "\n",
    "# Exponentiation\n",
    "print(x ** y)  # Output: 1000\n",
    "\n",
    "# Floor Division\n",
    "print(x // y)  # Output: 3"
   ]
  },
  {
   "cell_type": "markdown",
   "metadata": {},
   "source": [
    "### 2. Comparison (Relational) Operators\n",
    "\n",
    "Comparison operators are used to compare two values. These operators return a boolean result (`True` or `False`).\n",
    "\n",
    "| Operator | Description                | Example | Result  |\n",
    "|----------|----------------------------|---------|---------|\n",
    "| `==`     | Equal to                   | `x == y`| `False` |\n",
    "| `!=`     | Not equal to               | `x != y`| `True`  |\n",
    "| `>`      | Greater than               | `x > y` | `True`  |\n",
    "| `<`      | Less than                  | `x < y` | `False` |\n",
    "| `>=`     | Greater than or equal to   | `x >= y`| `True`  |\n",
    "| `<=`     | Less than or equal to      | `x <= y`| `False` |"
   ]
  },
  {
   "cell_type": "code",
   "execution_count": 2,
   "metadata": {},
   "outputs": [
    {
     "name": "stdout",
     "output_type": "stream",
     "text": [
      "False\n",
      "True\n",
      "False\n",
      "True\n",
      "True\n",
      "False\n"
     ]
    }
   ],
   "source": [
    "x = 10\n",
    "y = 20\n",
    "\n",
    "print(x == y)  # Output: False\n",
    "print(x != y)  # Output: True\n",
    "print(x > y)   # Output: False\n",
    "print(x < y)   # Output: True\n",
    "print(x >= 10) # Output: True\n",
    "print(x <= 5)  # Output: False"
   ]
  },
  {
   "cell_type": "markdown",
   "metadata": {},
   "source": [
    "### 3. Assignment Operators\n",
    "\n",
    "Assignment operators are used to assign values to variables. In addition to simple assignment (`=`), Python offers several compound assignment operators for convenience.\n",
    "\n",
    "| Operator | Description               | Example    |\n",
    "|----------|---------------------------|------------|\n",
    "| =        | Assigns a value            | `x = 5`    |\n",
    "| +=       | Adds and assigns           | `x += 5`   |\n",
    "| -=       | Subtracts and assigns      | `x -= 5`   |\n",
    "| *=       | Multiplies and assigns     | `x *= 5`   |\n",
    "| /=       | Divides and assigns        | `x /= 5`   |\n",
    "| %=       | Modulus and assigns        | `x %= 5`   |\n",
    "| **=      | Exponent and assigns       | `x **= 2`  |\n",
    "| //=      | Floor divides and assigns  | `x //= 2`  |"
   ]
  },
  {
   "cell_type": "code",
   "execution_count": 3,
   "metadata": {},
   "outputs": [
    {
     "name": "stdout",
     "output_type": "stream",
     "text": [
      "8\n",
      "6\n",
      "12\n",
      "4.0\n"
     ]
    }
   ],
   "source": [
    "x = 5\n",
    "\n",
    "# Add and assign\n",
    "x += 3  # Equivalent to x = x + 3\n",
    "print(x)  # Output: 8\n",
    "\n",
    "# Subtract and assign\n",
    "x -= 2  # Equivalent to x = x - 2\n",
    "print(x)  # Output: 6\n",
    "\n",
    "# Multiply and assign\n",
    "x *= 2  # Equivalent to x = x * 2\n",
    "print(x)  # Output: 12\n",
    "\n",
    "# Divide and assign\n",
    "x /= 3  # Equivalent to x = x / 3\n",
    "print(x)  # Output: 4.0"
   ]
  },
  {
   "cell_type": "markdown",
   "metadata": {},
   "source": [
    "### 4. Logical Operators\n",
    "Logical operators are used to combine conditional statements. These return boolean values (`True` or `False`).\n",
    "\n",
    "| Operator | Description                         | Example | Result |\n",
    "|----------|-------------------------------------|---------|--------|\n",
    "| `and`    | Returns True if both are True       | `x and y` | False |\n",
    "| `or`     | Returns True if one is True         | `x or y`  | True  |\n",
    "| `not`    | Returns the opposite boolean value  | `not x`   | False |"
   ]
  },
  {
   "cell_type": "code",
   "execution_count": 4,
   "metadata": {},
   "outputs": [
    {
     "name": "stdout",
     "output_type": "stream",
     "text": [
      "False\n",
      "True\n",
      "False\n"
     ]
    }
   ],
   "source": [
    "x = True\n",
    "y = False\n",
    "\n",
    "# Logical AND\n",
    "print(x and y)  # Output: False\n",
    "\n",
    "# Logical OR\n",
    "print(x or y)  # Output: True\n",
    "\n",
    "# Logical NOT\n",
    "print(not x)   # Output: False"
   ]
  },
  {
   "cell_type": "markdown",
   "metadata": {},
   "source": [
    "### 5. Bitwise Operators\n",
    "Bitwise operators perform bit-level operations on integers.\n",
    "\n",
    "| Operator | Description                                   | Example   | Result |\n",
    "|----------|-----------------------------------------------|-----------|--------|\n",
    "| `&`      | Bitwise AND                                   | `x & y`   | 0      |\n",
    "| `|`      | Bitwise OR                                    | `x | y`   | 14     |\n",
    "| `^`      | Bitwise XOR                                   | `x ^ y`   | 14     |\n",
    "| `~`      | Bitwise NOT (Two's complement representation) | `~x`      | -11    |\n",
    "| `<<`     | Left Shift (shift bits to the left)           | `x << 2`  | 40     |\n",
    "| `>>`     | Right Shift (shift bits to the right)         | `x >> 2`  | 2      |"
   ]
  },
  {
   "cell_type": "code",
   "execution_count": 5,
   "metadata": {},
   "outputs": [
    {
     "name": "stdout",
     "output_type": "stream",
     "text": [
      "0\n",
      "14\n",
      "14\n",
      "-11\n",
      "40\n",
      "2\n"
     ]
    }
   ],
   "source": [
    "x = 10  # Binary: 1010\n",
    "y = 4   # Binary: 0100\n",
    "\n",
    "# Bitwise AND\n",
    "print(x & y)  # Output: 0 (0000)\n",
    "\n",
    "# Bitwise OR\n",
    "print(x | y)  # Output: 14 (1110)\n",
    "\n",
    "# Bitwise XOR\n",
    "print(x ^ y)  # Output: 14 (1110)\n",
    "\n",
    "# Bitwise NOT\n",
    "print(~x)     # Output: -11 (two's complement representation)\n",
    "\n",
    "# Left Shift\n",
    "print(x << 2)  # Output: 40 (shifts bits of x to the left by 2 places)\n",
    "\n",
    "# Right Shift\n",
    "print(x >> 2)  # Output: 2 (shifts bits of x to the right by 2 places)\n"
   ]
  },
  {
   "cell_type": "markdown",
   "metadata": {},
   "source": [
    "### 6. Membership Operators\n",
    "Membership operators are used to test if a value is part of a sequence (like a list, string, or tuple).\n",
    "\n",
    "| Operator | Description                                | Example           | Result |\n",
    "|----------|--------------------------------------------|-------------------|--------|\n",
    "| `in`     | Returns True if value is in the sequence    | `x in list`       | True   |\n",
    "| `not in` | Returns True if value is not in the sequence| `x not in list`   | True   |"
   ]
  },
  {
   "cell_type": "code",
   "execution_count": 6,
   "metadata": {},
   "outputs": [
    {
     "name": "stdout",
     "output_type": "stream",
     "text": [
      "True\n",
      "True\n"
     ]
    }
   ],
   "source": [
    "my_list = [1, 2, 3, 4, 5]\n",
    "\n",
    "# Check if value is in the list\n",
    "print(3 in my_list)   # Output: True\n",
    "\n",
    "# Check if value is not in the list\n",
    "print(10 not in my_list)  # Output: True\n"
   ]
  },
  {
   "cell_type": "markdown",
   "metadata": {},
   "source": [
    "### 7. Identity Operators\n",
    "Identity operators are used to compare the memory locations of two objects. They determine if two objects refer to the same memory location.\n",
    "\n",
    "| Operator   | Description                                   | Example          | Result |\n",
    "|------------|-----------------------------------------------|------------------|--------|\n",
    "| `is`       | Returns True if both refer to the same object | `x is y`         | True   |\n",
    "| `is not`   | Returns True if both refer to different objects| `x is not y`     | True   |"
   ]
  },
  {
   "cell_type": "code",
   "execution_count": 7,
   "metadata": {},
   "outputs": [
    {
     "name": "stdout",
     "output_type": "stream",
     "text": [
      "True\n",
      "True\n"
     ]
    }
   ],
   "source": [
    "x = [1, 2, 3]\n",
    "y = [1, 2, 3]\n",
    "z = x\n",
    "\n",
    "# 'is' checks if both refer to the same object in memory\n",
    "print(x is z)  # Output: True\n",
    "\n",
    "# 'is not' checks if they are different objects\n",
    "print(x is not y)  # Output: True\n"
   ]
  }
 ],
 "metadata": {
  "kernelspec": {
   "display_name": "Python 3",
   "language": "python",
   "name": "python3"
  },
  "language_info": {
   "codemirror_mode": {
    "name": "ipython",
    "version": 3
   },
   "file_extension": ".py",
   "mimetype": "text/x-python",
   "name": "python",
   "nbconvert_exporter": "python",
   "pygments_lexer": "ipython3",
   "version": "3.10.7"
  }
 },
 "nbformat": 4,
 "nbformat_minor": 2
}
