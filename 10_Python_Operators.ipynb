{
 "cells": [
  {
   "cell_type": "markdown",
   "metadata": {},
   "source": [
    "# Python Operators"
   ]
  },
  {
   "cell_type": "markdown",
   "metadata": {},
   "source": [
    "### Introduction to Python Operators\n",
    "Operators are symbols or keywords that tell the Python interpreter to perform a specific operation. The operation could be mathematical, logical, or comparative, among others. Operands are the values or variables the operators work on.\n",
    "\n",
    "Python provides various types of operators, categorized as:\n",
    "\n",
    "1. Arithmetic Operators\n",
    "2. Comparison (Relational) Operators\n",
    "3. Assignment Operators\n",
    "4. Logical Operators\n",
    "5. Bitwise Operators\n",
    "6. Membership Operators\n",
    "7. Identity Operators\n"
   ]
  },
  {
   "cell_type": "markdown",
   "metadata": {},
   "source": [
    "### 1. Arithmetic Operators\n",
    "\n",
    "Arithmetic operators are used to perform mathematical operations like addition, subtraction, multiplication, etc.\n",
    "\n",
    "| Operator | Description            | Example         | Result            |\n",
    "|----------|------------------------|-----------------|-------------------|\n",
    "| `+`      | Addition                | `5 + 3`         | `8`               |\n",
    "| `-`      | Subtraction             | `10 - 5`        | `5`               |\n",
    "| `*`      | Multiplication          | `4 * 3`         | `12`              |\n",
    "| `/`      | Division                | `15 / 3`        | `5.0`             |\n",
    "| `%`      | Modulus (Remainder)     | `10 % 3`        | `1`               |\n",
    "| `**`     | Exponentiation          | `2 ** 3`        | `8`               |\n",
    "| `//`     | Floor Division          | `17 // 3`       | `5`               |"
   ]
  },
  {
   "cell_type": "code",
   "execution_count": 1,
   "metadata": {},
   "outputs": [
    {
     "name": "stdout",
     "output_type": "stream",
     "text": [
      "13\n",
      "7\n",
      "30\n",
      "3.3333333333333335\n",
      "1\n",
      "1000\n",
      "3\n"
     ]
    }
   ],
   "source": [
    "x = 10\n",
    "y = 3\n",
    "\n",
    "# Addition\n",
    "print(x + y)  # Output: 13\n",
    "\n",
    "# Subtraction\n",
    "print(x - y)  # Output: 7\n",
    "\n",
    "# Multiplication\n",
    "print(x * y)  # Output: 30\n",
    "\n",
    "# Division\n",
    "print(x / y)  # Output: 3.3333...\n",
    "\n",
    "# Modulus\n",
    "print(x % y)  # Output: 1\n",
    "\n",
    "# Exponentiation\n",
    "print(x ** y)  # Output: 1000\n",
    "\n",
    "# Floor Division\n",
    "print(x // y)  # Output: 3"
   ]
  },
  {
   "cell_type": "markdown",
   "metadata": {},
   "source": [
    "### 2. Comparison (Relational) Operators\n",
    "\n",
    "Comparison operators are used to compare two values. These operators return a boolean result (`True` or `False`).\n",
    "\n",
    "| Operator | Description                | Example | Result  |\n",
    "|----------|----------------------------|---------|---------|\n",
    "| `==`     | Equal to                   | `x == y`| `False` |\n",
    "| `!=`     | Not equal to               | `x != y`| `True`  |\n",
    "| `>`      | Greater than               | `x > y` | `True`  |\n",
    "| `<`      | Less than                  | `x < y` | `False` |\n",
    "| `>=`     | Greater than or equal to   | `x >= y`| `True`  |\n",
    "| `<=`     | Less than or equal to      | `x <= y`| `False` |"
   ]
  },
  {
   "cell_type": "code",
   "execution_count": 2,
   "metadata": {},
   "outputs": [
    {
     "name": "stdout",
     "output_type": "stream",
     "text": [
      "False\n",
      "True\n",
      "False\n",
      "True\n",
      "True\n",
      "False\n"
     ]
    }
   ],
   "source": [
    "x = 10\n",
    "y = 20\n",
    "\n",
    "print(x == y)  # Output: False\n",
    "print(x != y)  # Output: True\n",
    "print(x > y)   # Output: False\n",
    "print(x < y)   # Output: True\n",
    "print(x >= 10) # Output: True\n",
    "print(x <= 5)  # Output: False"
   ]
  },
  {
   "cell_type": "markdown",
   "metadata": {},
   "source": []
  }
 ],
 "metadata": {
  "kernelspec": {
   "display_name": "Python 3",
   "language": "python",
   "name": "python3"
  },
  "language_info": {
   "codemirror_mode": {
    "name": "ipython",
    "version": 3
   },
   "file_extension": ".py",
   "mimetype": "text/x-python",
   "name": "python",
   "nbconvert_exporter": "python",
   "pygments_lexer": "ipython3",
   "version": "3.10.7"
  }
 },
 "nbformat": 4,
 "nbformat_minor": 2
}
