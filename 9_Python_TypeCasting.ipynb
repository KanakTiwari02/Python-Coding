{
 "cells": [
  {
   "cell_type": "markdown",
   "metadata": {},
   "source": [
    "# Type Casting in Python"
   ]
  },
  {
   "cell_type": "markdown",
   "metadata": {},
   "source": [
    "Type casting in Python refers to the process of converting a variable from one data type to another. This is crucial for performing various operations and ensuring compatibility between different types of data. Type casting can be broadly categorized into two types: implicit and explicit."
   ]
  },
  {
   "cell_type": "markdown",
   "metadata": {},
   "source": [
    "### 1. Implicit Type Conversion\n",
    "Implicit type conversion, also known as automatic type conversion, occurs when Python automatically converts one data type to another without user intervention. This usually happens in expressions involving mixed data types.\n",
    "\n",
    "### How It Works:\n",
    "\n",
    "When operations involve different data types (e.g., integer and float), Python converts the data types to a common type (usually the one with higher precision) to perform the operation."
   ]
  },
  {
   "cell_type": "code",
   "execution_count": 1,
   "metadata": {},
   "outputs": [
    {
     "name": "stdout",
     "output_type": "stream",
     "text": [
      "10.0\n",
      "<class 'float'>\n",
      "21.0\n",
      "<class 'float'>\n"
     ]
    }
   ],
   "source": [
    "a = 7          # int\n",
    "b = 3.0        # float\n",
    "c = a + b      # Implicitly converts `a` to float\n",
    "print(c)       # Output: 10.0\n",
    "print(type(c)) # Output: <class 'float'>\n",
    "\n",
    "d = a * b      # Implicitly converts `a` to float\n",
    "print(d)       # Output: 21.0\n",
    "print(type(d)) # Output: <class 'float'>\n"
   ]
  },
  {
   "cell_type": "markdown",
   "metadata": {},
   "source": [
    "- Common Operations Involving Implicit Conversion:\n",
    "\n",
    "Arithmetic operations (addition, subtraction, multiplication, division)\n",
    "\n",
    "Combining different numeric types (e.g., int and float)"
   ]
  },
  {
   "cell_type": "markdown",
   "metadata": {},
   "source": [
    "### 2. Explicit Type Conversion\n",
    "Explicit type conversion, or type casting, requires user intervention to convert a data type into another. Python provides several built-in functions for explicit type conversion.\n",
    "\n",
    "- Built-in Functions for Explicit Type Conversion:\n",
    "\n",
    "int(): Converts a value to an integer.\n",
    "\n",
    "float(): Converts a value to a float.\n",
    "\n",
    "str(): Converts a value to a string."
   ]
  },
  {
   "cell_type": "code",
   "execution_count": 3,
   "metadata": {},
   "outputs": [
    {
     "name": "stdout",
     "output_type": "stream",
     "text": [
      "5.0\n",
      "<class 'float'>\n"
     ]
    }
   ],
   "source": [
    "# Convert Int to Float:\n",
    "a = 5\n",
    "n = float(a)\n",
    "print(n)       # Output: 5.0\n",
    "print(type(n)) # Output: <class 'float'>"
   ]
  },
  {
   "cell_type": "code",
   "execution_count": 4,
   "metadata": {},
   "outputs": [
    {
     "name": "stdout",
     "output_type": "stream",
     "text": [
      "5\n",
      "<class 'int'>\n"
     ]
    }
   ],
   "source": [
    "#Convert Float to Int:\n",
    "a = 5.9\n",
    "n = int(a)     # Truncates the decimal part\n",
    "print(n)       # Output: 5\n",
    "print(type(n)) # Output: <class 'int'>"
   ]
  },
  {
   "cell_type": "code",
   "execution_count": 5,
   "metadata": {},
   "outputs": [
    {
     "name": "stdout",
     "output_type": "stream",
     "text": [
      "5\n",
      "<class 'str'>\n"
     ]
    }
   ],
   "source": [
    "#Convert Int to String:\n",
    "a = 5\n",
    "n = str(a)\n",
    "print(n)       # Output: '5'\n",
    "print(type(n)) # Output: <class 'str'>"
   ]
  },
  {
   "cell_type": "code",
   "execution_count": 6,
   "metadata": {},
   "outputs": [
    {
     "name": "stdout",
     "output_type": "stream",
     "text": [
      "5.9\n",
      "<class 'float'>\n"
     ]
    }
   ],
   "source": [
    "# Convert String to Float:\n",
    "a = \"5.9\"\n",
    "n = float(a)\n",
    "print(n)       # Output: 5.9\n",
    "print(type(n)) # Output: <class 'float'>"
   ]
  },
  {
   "cell_type": "code",
   "execution_count": 7,
   "metadata": {},
   "outputs": [
    {
     "name": "stdout",
     "output_type": "stream",
     "text": [
      "5\n",
      "<class 'int'>\n",
      "Error: invalid literal for int() with base 10: 'hello'\n"
     ]
    }
   ],
   "source": [
    "# Convert String to Int:\n",
    "a = \"5\"\n",
    "n = int(a)\n",
    "print(n)       # Output: 5\n",
    "print(type(n)) # Output: <class 'int'>\n",
    "\n",
    "# Attempting to convert a non-numeric string\n",
    "try:\n",
    "    b = \"hello\"\n",
    "    n = int(b)\n",
    "except ValueError as e:\n",
    "    print(f\"Error: {e}\")  # Output: Error: invalid literal for int() with base 10: 'hello'"
   ]
  },
  {
   "cell_type": "markdown",
   "metadata": {},
   "source": [
    "### 3. Handling Errors During Type Conversion\n",
    "When type conversion fails (e.g., trying to convert a non-numeric string to an integer), Python raises exceptions. Common exceptions include ValueError and TypeError."
   ]
  },
  {
   "cell_type": "code",
   "execution_count": 8,
   "metadata": {},
   "outputs": [
    {
     "name": "stdout",
     "output_type": "stream",
     "text": [
      "Error: invalid literal for int() with base 10: 'not_a_number'\n"
     ]
    }
   ],
   "source": [
    "# Error Handling Example:\n",
    "try:\n",
    "    value = int(\"not_a_number\")\n",
    "except ValueError as e:\n",
    "    print(f\"Error: {e}\")  # Output: Error: invalid literal for int() with base 10: 'not_a_number'"
   ]
  },
  {
   "cell_type": "markdown",
   "metadata": {},
   "source": [
    "### 4. Conversion Between Complex Types\n",
    "Python allows conversion between complex data types such as lists, tuples, sets, and dictionaries."
   ]
  },
  {
   "cell_type": "code",
   "execution_count": 9,
   "metadata": {},
   "outputs": [
    {
     "name": "stdout",
     "output_type": "stream",
     "text": [
      "(1, 2, 3)\n",
      "{1, 2, 3}\n",
      "[1, 2, 3]\n"
     ]
    }
   ],
   "source": [
    "# Convert list to tuple\n",
    "my_list = [1, 2, 3]\n",
    "my_tuple = tuple(my_list)\n",
    "print(my_tuple)  # Output: (1, 2, 3)\n",
    "\n",
    "# Convert tuple to set\n",
    "my_set = set(my_tuple)\n",
    "print(my_set)    # Output: {1, 2, 3}\n",
    "\n",
    "# Convert set to list\n",
    "my_list_from_set = list(my_set)\n",
    "print(my_list_from_set)  # Output: [1, 2, 3]"
   ]
  },
  {
   "cell_type": "markdown",
   "metadata": {},
   "source": [
    "### 5. Custom Type Conversion Functions\n",
    "Custom functions can be created to handle specific type conversions that are not covered by built-in functions."
   ]
  },
  {
   "cell_type": "code",
   "execution_count": 10,
   "metadata": {},
   "outputs": [
    {
     "name": "stdout",
     "output_type": "stream",
     "text": [
      "75.0%\n"
     ]
    }
   ],
   "source": [
    "def convert_to_percentage(value):\n",
    "    return f\"{value * 100}%\"\n",
    "\n",
    "print(convert_to_percentage(0.75))  # Output: '75%'"
   ]
  },
  {
   "cell_type": "markdown",
   "metadata": {},
   "source": [
    "### 6. Conversion of Boolean Values\n",
    "Boolean values True and False can also be converted to integers and strings.\n",
    "\n"
   ]
  },
  {
   "cell_type": "code",
   "execution_count": 11,
   "metadata": {},
   "outputs": [
    {
     "name": "stdout",
     "output_type": "stream",
     "text": [
      "1\n",
      "0\n",
      "True\n",
      "False\n"
     ]
    }
   ],
   "source": [
    "# Boolean to integer\n",
    "print(int(True))  # Output: 1\n",
    "print(int(False)) # Output: 0\n",
    "\n",
    "# Boolean to string\n",
    "print(str(True))  # Output: 'True'\n",
    "print(str(False)) # Output: 'False'"
   ]
  },
  {
   "cell_type": "markdown",
   "metadata": {},
   "source": [
    "### 7. Precision and Rounding in Floating Point Conversion\n",
    "Precision and rounding can affect floating-point conversions and should be handled accordingly."
   ]
  },
  {
   "cell_type": "code",
   "execution_count": 12,
   "metadata": {},
   "outputs": [
    {
     "name": "stdout",
     "output_type": "stream",
     "text": [
      "3.14\n"
     ]
    }
   ],
   "source": [
    "pi = 3.14159265359\n",
    "print(f\"{pi:.2f}\")  # Output: '3.14'"
   ]
  },
  {
   "cell_type": "markdown",
   "metadata": {},
   "source": [
    "### 8. Conversion in Different Python Versions\n",
    "Be aware of differences in type conversion behavior between Python versions, particularly between Python 2 and Python 3."
   ]
  },
  {
   "cell_type": "code",
   "execution_count": 17,
   "metadata": {},
   "outputs": [
    {
     "name": "stdout",
     "output_type": "stream",
     "text": [
      "2.5\n",
      "2.5\n"
     ]
    }
   ],
   "source": [
    "# Python 2: division of integers results in an integer\n",
    "result = 5 / 2\n",
    "print(result)  # Output: 2 (integer division)\n",
    "\n",
    "# Python 3: division of integers results in a float\n",
    "result = 5 / 2\n",
    "print(result)  # Output: 2.5 (float division)"
   ]
  },
  {
   "cell_type": "markdown",
   "metadata": {},
   "source": [
    "### 9. Interactive Type Conversion in REPL\n",
    "Python's REPL environment allows for interactive type conversion demonstrations."
   ]
  },
  {
   "cell_type": "code",
   "execution_count": 15,
   "metadata": {},
   "outputs": [
    {
     "name": "stdout",
     "output_type": "stream",
     "text": [
      "10.0\n"
     ]
    }
   ],
   "source": [
    "x = 10\n",
    "y = float(x)\n",
    "print(y)  # Output: 10.0"
   ]
  },
  {
   "cell_type": "markdown",
   "metadata": {},
   "source": [
    "### 10. Type Checking Before Conversion\n",
    "Check the type of variables before converting them to avoid unnecessary errors."
   ]
  },
  {
   "cell_type": "code",
   "execution_count": 16,
   "metadata": {},
   "outputs": [
    {
     "name": "stdout",
     "output_type": "stream",
     "text": [
      "100\n"
     ]
    }
   ],
   "source": [
    "x = \"100\"\n",
    "if isinstance(x, str):\n",
    "    x = int(x)\n",
    "print(x)  # Output: 100"
   ]
  }
 ],
 "metadata": {
  "kernelspec": {
   "display_name": "Python 3",
   "language": "python",
   "name": "python3"
  },
  "language_info": {
   "codemirror_mode": {
    "name": "ipython",
    "version": 3
   },
   "file_extension": ".py",
   "mimetype": "text/x-python",
   "name": "python",
   "nbconvert_exporter": "python",
   "pygments_lexer": "ipython3",
   "version": "3.10.7"
  }
 },
 "nbformat": 4,
 "nbformat_minor": 2
}
