{
 "cells": [
  {
   "cell_type": "markdown",
   "metadata": {},
   "source": [
    "# Python Functions\n",
    "\n",
    "Functions are a core concept in Python and are essential for organizing and structuring code. They allow for code reuse, modular programming, and better maintainability. This guide covers various aspects of functions in Python."
   ]
  },
  {
   "cell_type": "markdown",
   "metadata": {},
   "source": [
    "### 1. Definition of a Function\n",
    "\n",
    "A function is a block of code that only runs when it is called. It can take inputs, perform operations, and return outputs.\n"
   ]
  },
  {
   "cell_type": "code",
   "execution_count": 1,
   "metadata": {},
   "outputs": [],
   "source": [
    "def function_name(parameters):\n",
    "    \"\"\"Docstring explaining the function.\"\"\"\n",
    "    # Function body\n",
    "    return result"
   ]
  },
  {
   "cell_type": "code",
   "execution_count": 3,
   "metadata": {},
   "outputs": [],
   "source": [
    "def greet(name):\n",
    "    \"\"\"Function to greet a person by name.\"\"\"\n",
    "    return f\"Hello, {name}!\"\n"
   ]
  },
  {
   "cell_type": "markdown",
   "metadata": {},
   "source": [
    "### 2. Function Parameters\n",
    "Functions can accept parameters, allowing data to be passed into them.\n",
    "\n",
    "### Types of Parameters\n",
    "Positional Parameters: Required parameters that must be passed in the correct order.\n",
    "\n",
    "Keyword Parameters: Parameters that can be passed using their name.\n",
    "\n",
    "Default Parameters: Parameters that assume a default value if no value is provided.\n",
    "\n",
    "Variable-Length Parameters: Allows passing a variable number of arguments."
   ]
  },
  {
   "cell_type": "code",
   "execution_count": 4,
   "metadata": {},
   "outputs": [
    {
     "name": "stdout",
     "output_type": "stream",
     "text": [
      "8\n",
      "5\n"
     ]
    }
   ],
   "source": [
    "def add(a, b=5):  # b has a default value\n",
    "    return a + b\n",
    "\n",
    "print(add(3))     # Output: 8\n",
    "print(add(3, 2))  # Output: 5\n"
   ]
  },
  {
   "cell_type": "markdown",
   "metadata": {},
   "source": [
    "### 3. Return Statement\n",
    "The return statement is used to exit a function and return a value. If no return statement is present, the function will return None by default."
   ]
  },
  {
   "cell_type": "markdown",
   "metadata": {},
   "source": []
  }
 ],
 "metadata": {
  "kernelspec": {
   "display_name": "Python 3",
   "language": "python",
   "name": "python3"
  },
  "language_info": {
   "codemirror_mode": {
    "name": "ipython",
    "version": 3
   },
   "file_extension": ".py",
   "mimetype": "text/x-python",
   "name": "python",
   "nbconvert_exporter": "python",
   "pygments_lexer": "ipython3",
   "version": "3.10.7"
  }
 },
 "nbformat": 4,
 "nbformat_minor": 2
}
