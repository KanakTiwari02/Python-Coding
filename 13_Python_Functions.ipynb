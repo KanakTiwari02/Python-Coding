{
 "cells": [
  {
   "cell_type": "markdown",
   "metadata": {},
   "source": [
    "# Python Functions\n",
    "\n",
    "Functions are a core concept in Python and are essential for organizing and structuring code. They allow for code reuse, modular programming, and better maintainability. This guide covers various aspects of functions in Python."
   ]
  },
  {
   "cell_type": "markdown",
   "metadata": {},
   "source": [
    "### 1. Definition of a Function\n",
    "\n",
    "A function is a block of code that only runs when it is called. It can take inputs, perform operations, and return outputs.\n"
   ]
  },
  {
   "cell_type": "code",
   "execution_count": 1,
   "metadata": {},
   "outputs": [],
   "source": [
    "def function_name(parameters):\n",
    "    \"\"\"Docstring explaining the function.\"\"\"\n",
    "    # Function body\n",
    "    return result"
   ]
  },
  {
   "cell_type": "code",
   "execution_count": 3,
   "metadata": {},
   "outputs": [],
   "source": [
    "def greet(name):\n",
    "    \"\"\"Function to greet a person by name.\"\"\"\n",
    "    return f\"Hello, {name}!\"\n"
   ]
  },
  {
   "cell_type": "markdown",
   "metadata": {},
   "source": [
    "### 2. Function Parameters\n",
    "Functions can accept parameters, allowing data to be passed into them.\n",
    "\n",
    "### Types of Parameters\n",
    "Positional Parameters: Required parameters that must be passed in the correct order.\n",
    "\n",
    "Keyword Parameters: Parameters that can be passed using their name.\n",
    "\n",
    "Default Parameters: Parameters that assume a default value if no value is provided.\n",
    "\n",
    "Variable-Length Parameters: Allows passing a variable number of arguments."
   ]
  },
  {
   "cell_type": "code",
   "execution_count": 4,
   "metadata": {},
   "outputs": [
    {
     "name": "stdout",
     "output_type": "stream",
     "text": [
      "8\n",
      "5\n"
     ]
    }
   ],
   "source": [
    "def add(a, b=5):  # b has a default value\n",
    "    return a + b\n",
    "\n",
    "print(add(3))     # Output: 8\n",
    "print(add(3, 2))  # Output: 5\n"
   ]
  },
  {
   "cell_type": "markdown",
   "metadata": {},
   "source": [
    "### 3. Return Statement\n",
    "The return statement is used to exit a function and return a value. If no return statement is present, the function will return None by default."
   ]
  },
  {
   "cell_type": "code",
   "execution_count": 7,
   "metadata": {},
   "outputs": [
    {
     "name": "stdout",
     "output_type": "stream",
     "text": [
      "20\n"
     ]
    }
   ],
   "source": [
    "def multiply(x, y):\n",
    "    return x * y\n",
    "\n",
    "result = multiply(4, 5)  # result will be 20\n",
    "print(result)"
   ]
  },
  {
   "cell_type": "markdown",
   "metadata": {},
   "source": [
    "### 4. Function Scope\n",
    "Variables defined inside a function are local to that function and cannot be accessed outside it. Conversely, variables defined outside a function are global and can be accessed within functions."
   ]
  },
  {
   "cell_type": "code",
   "execution_count": 8,
   "metadata": {},
   "outputs": [
    {
     "name": "stdout",
     "output_type": "stream",
     "text": [
      "('global', 'local')\n"
     ]
    }
   ],
   "source": [
    "x = \"global\"\n",
    "\n",
    "def func():\n",
    "    y = \"local\"\n",
    "    return x, y  # x is accessible, but y is not outside\n",
    "\n",
    "print(func())   # Output: ('global', 'local')\n",
    "# print(y)      # Would raise an error\n"
   ]
  },
  {
   "cell_type": "markdown",
   "metadata": {},
   "source": [
    "### 5. Anonymous Functions (Lambda Functions)\n",
    "Python supports anonymous functions, which are defined using the lambda keyword. They are generally used for short, throwaway functions."
   ]
  },
  {
   "cell_type": "markdown",
   "metadata": {},
   "source": [
    "lambda arguments: expression"
   ]
  },
  {
   "cell_type": "code",
   "execution_count": 9,
   "metadata": {},
   "outputs": [
    {
     "name": "stdout",
     "output_type": "stream",
     "text": [
      "25\n"
     ]
    }
   ],
   "source": [
    "square = lambda x: x * x\n",
    "print(square(5))  # Output: 25"
   ]
  },
  {
   "cell_type": "markdown",
   "metadata": {},
   "source": [
    "### 6. Higher-Order Functions\n",
    "Functions that take other functions as arguments or return functions as results are called higher-order functions. Common examples include map(), filter(), and reduce()."
   ]
  },
  {
   "cell_type": "code",
   "execution_count": 10,
   "metadata": {},
   "outputs": [
    {
     "name": "stdout",
     "output_type": "stream",
     "text": [
      "[1, 4, 9, 16]\n"
     ]
    }
   ],
   "source": [
    "numbers = [1, 2, 3, 4]\n",
    "squared = list(map(lambda x: x ** 2, numbers))\n",
    "print(squared)  # Output: [1, 4, 9, 16]\n"
   ]
  },
  {
   "cell_type": "markdown",
   "metadata": {},
   "source": [
    "### 7. Docstrings\n",
    "Docstrings provide a convenient way of associating documentation with functions. They are written as the first statement in a function and can be accessed via the __doc__ attribute."
   ]
  },
  {
   "cell_type": "code",
   "execution_count": 11,
   "metadata": {},
   "outputs": [
    {
     "name": "stdout",
     "output_type": "stream",
     "text": [
      "Subtracts b from a and returns the result.\n"
     ]
    }
   ],
   "source": [
    "def subtract(a, b):\n",
    "    \"\"\"Subtracts b from a and returns the result.\"\"\"\n",
    "    return a - b\n",
    "\n",
    "print(subtract.__doc__)  # Output: Subtracts b from a and returns the result.\n"
   ]
  },
  {
   "cell_type": "markdown",
   "metadata": {},
   "source": [
    "### 8. Function Decorators\n",
    "Decorators are a way to modify or enhance the behavior of functions or methods without changing their code. They are often used for logging, enforcing access control, or instrumentation."
   ]
  },
  {
   "cell_type": "code",
   "execution_count": 12,
   "metadata": {},
   "outputs": [
    {
     "name": "stdout",
     "output_type": "stream",
     "text": [
      "Wrapper executed before display\n",
      "Display function executed\n"
     ]
    }
   ],
   "source": [
    "def decorator_function(original_function):\n",
    "    def wrapper_function():\n",
    "        print(\"Wrapper executed before {}\".format(original_function.__name__))\n",
    "        return original_function()\n",
    "    return wrapper_function\n",
    "\n",
    "@decorator_function\n",
    "def display():\n",
    "    return \"Display function executed\"\n",
    "\n",
    "print(display())  # Output: Wrapper executed before display\n"
   ]
  },
  {
   "cell_type": "markdown",
   "metadata": {},
   "source": []
  }
 ],
 "metadata": {
  "kernelspec": {
   "display_name": "Python 3",
   "language": "python",
   "name": "python3"
  },
  "language_info": {
   "codemirror_mode": {
    "name": "ipython",
    "version": 3
   },
   "file_extension": ".py",
   "mimetype": "text/x-python",
   "name": "python",
   "nbconvert_exporter": "python",
   "pygments_lexer": "ipython3",
   "version": "3.10.7"
  }
 },
 "nbformat": 4,
 "nbformat_minor": 2
}
