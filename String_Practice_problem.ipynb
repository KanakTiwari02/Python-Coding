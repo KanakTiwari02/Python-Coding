{
 "cells": [
  {
   "cell_type": "markdown",
   "metadata": {},
   "source": [
    "# Programs of Python Strings  "
   ]
  },
  {
   "cell_type": "markdown",
   "metadata": {},
   "source": [
    "1. Python program to check the validity of a Password"
   ]
  },
  {
   "cell_type": "code",
   "execution_count": null,
   "metadata": {},
   "outputs": [
    {
     "name": "stdout",
     "output_type": "stream",
     "text": [
      "True\n"
     ]
    }
   ],
   "source": [
    "import re\n",
    "\n",
    "def is_valid_password(password):\n",
    "    if len(password) < 8:\n",
    "        return False\n",
    "    if not re.search(\"[a-z]\", password):\n",
    "        return False\n",
    "    if not re.search(\"[A-Z]\", password):\n",
    "        return False\n",
    "    if not re.search(\"[0-9]\", password):\n",
    "        return False\n",
    "    if not re.search(\"[@#$%^&+=]\", password):\n",
    "        return False\n",
    "    return True\n",
    "\n",
    "# Test\n",
    "password = \"Passw0rd@\"\n",
    "print(is_valid_password(password)) \n"
   ]
  },
  {
   "cell_type": "markdown",
   "metadata": {},
   "source": [
    "2. Python program to count number of vowels using sets in a given string"
   ]
  },
  {
   "cell_type": "code",
   "execution_count": null,
   "metadata": {},
   "outputs": [
    {
     "name": "stdout",
     "output_type": "stream",
     "text": [
      "3\n"
     ]
    }
   ],
   "source": [
    "def count_vowels(s):\n",
    "    vowels = set(\"aeiou\")\n",
    "    return sum(1 for char in s.lower() if char in vowels)\n",
    "\n",
    "# Test\n",
    "string = \"Hello World\"\n",
    "print(count_vowels(string)) \n"
   ]
  },
  {
   "cell_type": "markdown",
   "metadata": {},
   "source": [
    "3. Check if a Substring is Present in a Given String"
   ]
  },
  {
   "cell_type": "code",
   "execution_count": null,
   "metadata": {},
   "outputs": [
    {
     "name": "stdout",
     "output_type": "stream",
     "text": [
      "True\n"
     ]
    }
   ],
   "source": [
    "def is_substring_present(main_string, substring):\n",
    "    return substring in main_string\n",
    "\n",
    "# Test\n",
    "main_string = \"Hello World\"\n",
    "substring = \"World\"\n",
    "print(is_substring_present(main_string, substring))\n"
   ]
  },
  {
   "cell_type": "markdown",
   "metadata": {},
   "source": [
    "4. Check if two strings are anagram or not"
   ]
  },
  {
   "cell_type": "code",
   "execution_count": null,
   "metadata": {},
   "outputs": [
    {
     "name": "stdout",
     "output_type": "stream",
     "text": [
      "True\n"
     ]
    }
   ],
   "source": [
    "def are_anagrams(str1, str2):\n",
    "    return sorted(str1) == sorted(str2)\n",
    "\n",
    "# Test\n",
    "str1 = \"listen\"\n",
    "str2 = \"silent\"\n",
    "print(are_anagrams(str1, str2))"
   ]
  },
  {
   "cell_type": "markdown",
   "metadata": {},
   "source": [
    "5. Reverse words in a given String in Python"
   ]
  },
  {
   "cell_type": "code",
   "execution_count": null,
   "metadata": {},
   "outputs": [
    {
     "name": "stdout",
     "output_type": "stream",
     "text": [
      "Python from World Hello\n"
     ]
    }
   ],
   "source": [
    "def reverse_words(s):\n",
    "    return ' '.join(reversed(s.split()))\n",
    "\n",
    "# Test\n",
    "string = \"Hello World from Python\"\n",
    "print(reverse_words(string)) "
   ]
  },
  {
   "cell_type": "markdown",
   "metadata": {},
   "source": [
    "6. Count occurrences of a word in string"
   ]
  },
  {
   "cell_type": "code",
   "execution_count": null,
   "metadata": {},
   "outputs": [
    {
     "name": "stdout",
     "output_type": "stream",
     "text": [
      "2\n"
     ]
    }
   ],
   "source": [
    "def count_word_occurrences(s, word):\n",
    "    return s.lower().split().count(word.lower())\n",
    "\n",
    "# Test\n",
    "string = \"Python is great and python is awesome\"\n",
    "word = \"python\"\n",
    "print(count_word_occurrences(string, word))"
   ]
  },
  {
   "cell_type": "markdown",
   "metadata": {},
   "source": [
    "7. Python program to convert String to a List"
   ]
  },
  {
   "cell_type": "code",
   "execution_count": null,
   "metadata": {},
   "outputs": [
    {
     "name": "stdout",
     "output_type": "stream",
     "text": [
      "['H', 'e', 'l', 'l', 'o']\n"
     ]
    }
   ],
   "source": [
    "def string_to_list(s):\n",
    "    return list(s)\n",
    "\n",
    "# Test\n",
    "string = \"Hello\"\n",
    "print(string_to_list(string)) "
   ]
  },
  {
   "cell_type": "markdown",
   "metadata": {},
   "source": [
    "8. Remove all duplicates from a given string in Python"
   ]
  },
  {
   "cell_type": "code",
   "execution_count": null,
   "metadata": {},
   "outputs": [
    {
     "name": "stdout",
     "output_type": "stream",
     "text": [
      "ban\n"
     ]
    }
   ],
   "source": [
    "def remove_duplicates(s):\n",
    "    return ''.join(sorted(set(s), key=s.index))\n",
    "\n",
    "# Test\n",
    "string = \"banana\"\n",
    "print(remove_duplicates(string))"
   ]
  },
  {
   "cell_type": "markdown",
   "metadata": {},
   "source": [
    "9. Python program for removing i-th character from a string"
   ]
  },
  {
   "cell_type": "code",
   "execution_count": null,
   "metadata": {},
   "outputs": [
    {
     "name": "stdout",
     "output_type": "stream",
     "text": [
      "Helo\n"
     ]
    }
   ],
   "source": [
    "def remove_ith_char(s, i):\n",
    "    return s[:i] + s[i+1:]\n",
    "\n",
    "# Test\n",
    "string = \"Hello\"\n",
    "index = 2\n",
    "print(remove_ith_char(string, index))"
   ]
  },
  {
   "cell_type": "markdown",
   "metadata": {},
   "source": [
    "10. Python String Title method"
   ]
  },
  {
   "cell_type": "code",
   "execution_count": null,
   "metadata": {},
   "outputs": [
    {
     "name": "stdout",
     "output_type": "stream",
     "text": [
      "Hello World From Python\n"
     ]
    }
   ],
   "source": [
    "def title_case(s):\n",
    "    return s.title()\n",
    "\n",
    "# Test\n",
    "string = \"hello world from python\"\n",
    "print(title_case(string))"
   ]
  },
  {
   "cell_type": "markdown",
   "metadata": {},
   "source": [
    "11. Python Regex to extract maximum numeric value from a string"
   ]
  },
  {
   "cell_type": "code",
   "execution_count": null,
   "metadata": {},
   "outputs": [
    {
     "name": "stdout",
     "output_type": "stream",
     "text": [
      "200\n"
     ]
    }
   ],
   "source": [
    "import re\n",
    "\n",
    "def max_numeric_value(s):\n",
    "    numbers = re.findall(r'\\d+', s)\n",
    "    return max(map(int, numbers)) if numbers else None\n",
    "\n",
    "# Test\n",
    "string = \"The prices are 45, 100, and 200 dollars\"\n",
    "print(max_numeric_value(string))"
   ]
  },
  {
   "cell_type": "markdown",
   "metadata": {},
   "source": [
    "12. Python program to print the initials of a name with the last name in full"
   ]
  },
  {
   "cell_type": "code",
   "execution_count": null,
   "metadata": {},
   "outputs": [
    {
     "name": "stdout",
     "output_type": "stream",
     "text": [
      "J.D. Smith\n"
     ]
    }
   ],
   "source": [
    "def print_initials(name):\n",
    "    parts = name.split()\n",
    "    initials = ''.join(part[0].upper() + '.' for part in parts[:-1])\n",
    "    last_name = parts[-1].capitalize()\n",
    "    return f\"{initials} {last_name}\"\n",
    "\n",
    "# Test\n",
    "full_name = \"john doe smith\"\n",
    "print(print_initials(full_name))"
   ]
  },
  {
   "cell_type": "markdown",
   "metadata": {},
   "source": [
    "13. The k most frequent words from data set in Python"
   ]
  },
  {
   "cell_type": "code",
   "execution_count": null,
   "metadata": {},
   "outputs": [
    {
     "name": "stdout",
     "output_type": "stream",
     "text": [
      "['hello', 'python']\n"
     ]
    }
   ],
   "source": [
    "from collections import Counter\n",
    "\n",
    "def k_most_frequent_words(s, k):\n",
    "    words = s.lower().split()\n",
    "    word_count = Counter(words)\n",
    "    return [word for word, count in word_count.most_common(k)]\n",
    "\n",
    "# Test\n",
    "text = \"hello hello world hello python python python\"\n",
    "k = 2\n",
    "print(k_most_frequent_words(text, k))"
   ]
  },
  {
   "cell_type": "markdown",
   "metadata": {},
   "source": [
    "14. Find all close matches of input string from a list"
   ]
  },
  {
   "cell_type": "code",
   "execution_count": null,
   "metadata": {},
   "outputs": [
    {
     "name": "stdout",
     "output_type": "stream",
     "text": [
      "['apple', 'pineapple']\n"
     ]
    }
   ],
   "source": [
    "from difflib import get_close_matches\n",
    "\n",
    "def find_close_matches(word, word_list):\n",
    "    return get_close_matches(word, word_list)\n",
    "\n",
    "# Test\n",
    "words_list = [\"apple\", \"banana\", \"grape\", \"pineapple\"]\n",
    "input_word = \"appl\"\n",
    "print(find_close_matches(input_word, words_list))"
   ]
  },
  {
   "cell_type": "markdown",
   "metadata": {},
   "source": [
    "15. Check if there are K consecutive 1’s in a binary number"
   ]
  },
  {
   "cell_type": "code",
   "execution_count": null,
   "metadata": {},
   "outputs": [
    {
     "name": "stdout",
     "output_type": "stream",
     "text": [
      "True\n"
     ]
    }
   ],
   "source": [
    "def has_k_consecutive_ones(binary_str, k):\n",
    "    return '1' * k in binary_str\n",
    "\n",
    "# Test\n",
    "binary_number = \"110111101\"\n",
    "k = 3\n",
    "print(has_k_consecutive_ones(binary_number, k))"
   ]
  },
  {
   "cell_type": "markdown",
   "metadata": {},
   "source": [
    "16. Lambda and filter in Python"
   ]
  },
  {
   "cell_type": "code",
   "execution_count": null,
   "metadata": {},
   "outputs": [
    {
     "name": "stdout",
     "output_type": "stream",
     "text": [
      "[2, 4, 6]\n"
     ]
    }
   ],
   "source": [
    "numbers = [1, 2, 3, 4, 5, 6]\n",
    "even_numbers = list(filter(lambda x: x % 2 == 0, numbers))\n",
    "print(even_numbers)"
   ]
  },
  {
   "cell_type": "markdown",
   "metadata": {},
   "source": [
    "17. Concatenated string with uncommon characters in Python"
   ]
  },
  {
   "cell_type": "code",
   "execution_count": null,
   "metadata": {},
   "outputs": [
    {
     "name": "stdout",
     "output_type": "stream",
     "text": [
      "da\n"
     ]
    }
   ],
   "source": [
    "def uncommon_chars(str1, str2):\n",
    "    return ''.join(set(str1) ^ set(str2))\n",
    "\n",
    "# Test\n",
    "string1 = \"abc\"\n",
    "string2 = \"bcd\"\n",
    "print(uncommon_chars(string1, string2))"
   ]
  },
  {
   "cell_type": "markdown",
   "metadata": {},
   "source": [
    "18. Check if both halves of the string have the same set of characters in Python"
   ]
  },
  {
   "cell_type": "code",
   "execution_count": null,
   "metadata": {},
   "outputs": [
    {
     "name": "stdout",
     "output_type": "stream",
     "text": [
      "True\n"
     ]
    }
   ],
   "source": [
    "def halves_have_same_characters(s):\n",
    "    mid = len(s) // 2\n",
    "    return set(s[:mid]) == set(s[mid:])\n",
    "\n",
    "# Test\n",
    "string = \"abcdabcd\"\n",
    "print(halves_have_same_characters(string))"
   ]
  },
  {
   "cell_type": "markdown",
   "metadata": {},
   "source": [
    "19. Find the first repeated word in a string in Python"
   ]
  },
  {
   "cell_type": "code",
   "execution_count": null,
   "metadata": {},
   "outputs": [
    {
     "name": "stdout",
     "output_type": "stream",
     "text": [
      "apple\n"
     ]
    }
   ],
   "source": [
    "def first_repeated_word(s):\n",
    "    words = s.split()\n",
    "    seen = set()\n",
    "    for word in words:\n",
    "        if word in seen:\n",
    "            return word\n",
    "        seen.add(word)\n",
    "    return None\n",
    "\n",
    "# Test\n",
    "string = \"apple banana apple cherry banana\"\n",
    "print(first_repeated_word(string))"
   ]
  },
  {
   "cell_type": "markdown",
   "metadata": {},
   "source": [
    "20. Second most repeated word in a sequence in Python"
   ]
  },
  {
   "cell_type": "code",
   "execution_count": null,
   "metadata": {},
   "outputs": [
    {
     "name": "stdout",
     "output_type": "stream",
     "text": [
      "apple\n"
     ]
    }
   ],
   "source": [
    "from collections import Counter\n",
    "\n",
    "def second_most_repeated_word(s):\n",
    "    words = s.split()\n",
    "    word_count = Counter(words)\n",
    "    most_common = word_count.most_common()\n",
    "    if len(most_common) < 2:\n",
    "        return None\n",
    "    return most_common[1][0]\n",
    "\n",
    "# Test\n",
    "string = \"apple banana apple banana cherry cherry cherry\"\n",
    "print(second_most_repeated_word(string))"
   ]
  },
  {
   "cell_type": "markdown",
   "metadata": {},
   "source": [
    "21. K’th Non-repeating Character in Python"
   ]
  },
  {
   "cell_type": "code",
   "execution_count": null,
   "metadata": {},
   "outputs": [
    {
     "name": "stdout",
     "output_type": "stream",
     "text": [
      "None\n"
     ]
    }
   ],
   "source": [
    "def kth_non_repeating(s, k):\n",
    "    from collections import Counter\n",
    "    counts = Counter(s)\n",
    "    non_repeating = [char for char in s if counts[char] == 1]\n",
    "    return non_repeating[k - 1] if k <= len(non_repeating) else None\n",
    "\n",
    "# Test\n",
    "string = \"abacabad\"\n",
    "k = 3\n",
    "print(kth_non_repeating(string, k)) "
   ]
  },
  {
   "cell_type": "markdown",
   "metadata": {},
   "source": [
    "22. Reverse words in a given String in Python"
   ]
  },
  {
   "cell_type": "code",
   "execution_count": null,
   "metadata": {},
   "outputs": [
    {
     "name": "stdout",
     "output_type": "stream",
     "text": [
      "awesome is Python\n"
     ]
    }
   ],
   "source": [
    "def reverse_words(s):\n",
    "    return ' '.join(s.split()[::-1])\n",
    "\n",
    "# Test\n",
    "string = \"Python is awesome\"\n",
    "print(reverse_words(string)) "
   ]
  },
  {
   "cell_type": "markdown",
   "metadata": {},
   "source": [
    "23. Print number with commas as 1000 separators in Python"
   ]
  },
  {
   "cell_type": "code",
   "execution_count": null,
   "metadata": {},
   "outputs": [
    {
     "name": "stdout",
     "output_type": "stream",
     "text": [
      "1,234,567\n"
     ]
    }
   ],
   "source": [
    "def format_number_with_commas(number):\n",
    "    return f\"{number:,}\"\n",
    "\n",
    "# Test\n",
    "number = 1234567\n",
    "print(format_number_with_commas(number))"
   ]
  }
 ],
 "metadata": {
  "language_info": {
   "name": "python"
  }
 },
 "nbformat": 4,
 "nbformat_minor": 2
}
